{
 "cells": [
  {
   "cell_type": "markdown",
   "metadata": {},
   "source": [
    "### Case Study: GIS Map Visualization\n",
    "\n",
    "**Objective:** Visualize the speed and elevation on a map. Use Pandas to import the data and prepare the map. Geographic Information Systems (GIS) are an important technology to view spatially distributed data. The GIS maps can help to identify factors related to location.\n",
    "\n",
    "Programming for Engineers: [Automotive Data](https://www.apmonitor.com/pds/index.php/Main/AutomotiveData)\n",
    "\n",
    "- [Course Overview](https://apmonitor.com/che263)\n",
    "- [Course Schedule](https://apmonitor.com/che263/index.php/Main/CourseSchedule)\n",
    "\n",
    "Additional data sets and case studies are available on the [Machine Learning for Engineers course](https://apmonitor.com/pds/index.php/Main/AutomotiveMonitoring).\n",
    "\n",
    "<img width=400px align=left src='https://apmonitor.com/pds/uploads/Main/automotive_monitoring.png'>"
   ]
  },
  {
   "cell_type": "markdown",
   "metadata": {},
   "source": [
    "### Import Packages"
   ]
  },
  {
   "cell_type": "code",
   "execution_count": null,
   "metadata": {},
   "outputs": [],
   "source": [
    "import pandas as pd\n",
    "import numpy as np\n",
    "import matplotlib.pyplot as plt"
   ]
  },
  {
   "cell_type": "markdown",
   "metadata": {},
   "source": [
    "### Import Data and View Columns\n",
    "\n",
    "Import data, set time index, and print data columns"
   ]
  },
  {
   "cell_type": "code",
   "execution_count": null,
   "metadata": {},
   "outputs": [],
   "source": [
    "url = 'http://apmonitor.com/pds/uploads/Main/auto_trip.zip'\n",
    "data = pd.read_csv(url)\n",
    "data.head()"
   ]
  },
  {
   "cell_type": "code",
   "execution_count": null,
   "metadata": {},
   "outputs": [],
   "source": [
    "# reduce to every 100th row\n",
    "data = data[::100]\n",
    "len(data)"
   ]
  },
  {
   "cell_type": "code",
   "execution_count": null,
   "metadata": {},
   "outputs": [],
   "source": [
    "# reset row index\n",
    "data.reset_index(inplace=True,drop=True)"
   ]
  },
  {
   "cell_type": "code",
   "execution_count": null,
   "metadata": {},
   "outputs": [],
   "source": [
    "# delete column\n",
    "del data['Unnamed: 41']"
   ]
  },
  {
   "cell_type": "code",
   "execution_count": null,
   "metadata": {},
   "outputs": [],
   "source": [
    "# set time index\n",
    "data['time'] = pd.to_datetime(data['time'])\n",
    "data = data.set_index('time')\n",
    "data.sample(5)"
   ]
  },
  {
   "cell_type": "markdown",
   "metadata": {},
   "source": [
    "### Fill In Missing Data"
   ]
  },
  {
   "cell_type": "code",
   "execution_count": null,
   "metadata": {},
   "outputs": [],
   "source": [
    "# fill in NaNs - forward fill\n",
    "data.fillna(method='ffill',inplace=True)\n",
    "# fill in NaNs - backward fill\n",
    "data.fillna(method='bfill',inplace=True)\n",
    "data.describe()"
   ]
  },
  {
   "cell_type": "markdown",
   "metadata": {},
   "source": [
    "### Plot Data"
   ]
  },
  {
   "cell_type": "code",
   "execution_count": null,
   "metadata": {},
   "outputs": [],
   "source": [
    "data.plot(subplots=True,figsize=(10,30))\n",
    "plt.show()"
   ]
  },
  {
   "cell_type": "markdown",
   "metadata": {},
   "source": [
    "### View GPS Points on Map"
   ]
  },
  {
   "cell_type": "markdown",
   "metadata": {},
   "source": [
    "Plot the longitude and latitude on a `matplotlib` plot."
   ]
  },
  {
   "cell_type": "code",
   "execution_count": null,
   "metadata": {},
   "outputs": [],
   "source": [
    "x = data['Longitude'].values\n",
    "y = data['Latitude'].values\n",
    "\n",
    "# plot data\n",
    "plt.plot(x,y,'r-')\n",
    "plt.show()"
   ]
  },
  {
   "cell_type": "markdown",
   "metadata": {},
   "source": [
    "### Display GPS with Plotly Express"
   ]
  },
  {
   "cell_type": "code",
   "execution_count": null,
   "metadata": {
    "scrolled": true
   },
   "outputs": [],
   "source": [
    "import plotly.express as px\n",
    "\n",
    "df = px.data.carshare()\n",
    "fig = px.scatter_mapbox(data, lat=\"Latitude\", lon=\"Longitude\", \\\n",
    "                        color=\"Vehicle speed (mph)\", \\\n",
    "                        size=\"Altitude (GPS) (feet)\", \\\n",
    "                        color_continuous_scale=px.colors.cyclical.IceFire, \\\n",
    "                        size_max=5, zoom=6)\n",
    "fig.update_layout(\n",
    "    mapbox_style=\"open-street-map\",\n",
    "    margin={\"r\": 0, \"t\": 0, \"l\": 0, \"b\": 0})\n",
    "fig.show()"
   ]
  },
  {
   "cell_type": "markdown",
   "metadata": {},
   "source": [
    "### Challenge Problem\n",
    "\n",
    "Perform a similar analysis but with [new data](http://apmonitor.com/pds/uploads/Main/auto_iowa.txt) with a different OBD-II connector and vehicle.\n",
    "\n",
    "```python\n",
    "url = http://apmonitor.com/pds/uploads/Main/auto_iowa.txt\n",
    "```\n",
    "\n",
    "The data is taken from Iowa so elevation changes are not significant. Select a new value besides elevation to include on the map to adjust the size of the data points."
   ]
  },
  {
   "cell_type": "code",
   "execution_count": null,
   "metadata": {},
   "outputs": [],
   "source": []
  }
 ],
 "metadata": {
  "kernelspec": {
   "display_name": "Python 3",
   "language": "python",
   "name": "python3"
  },
  "language_info": {
   "codemirror_mode": {
    "name": "ipython",
    "version": 3
   },
   "file_extension": ".py",
   "mimetype": "text/x-python",
   "name": "python",
   "nbconvert_exporter": "python",
   "pygments_lexer": "ipython3",
   "version": "3.8.5"
  }
 },
 "nbformat": 4,
 "nbformat_minor": 4
}
