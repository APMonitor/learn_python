{
 "cells": [
  {
   "cell_type": "markdown",
   "metadata": {},
   "source": [
    "## Python Exam\n",
    "\n",
    "This Python exam covers the following topics:\n",
    "\n",
    "* Problem 1: Variable types and formats\n",
    "* Problem 2: Debugging\n",
    "* Problem 3: Functions, Conditionals, and Loops\n",
    "* Problem 4: Solve Linear Equations\n",
    "* Problem 5: Solve Nonlinear Equations\n",
    "* Problem 6: Integration\n",
    "* Problem 7: Differentiate\n",
    "* Problem 8: Interpolation\n",
    "* Problem 9: Polynomial Regression\n",
    "* Problem 10: General Nonlinear Regression\n",
    "* Problem 11: Solve Differential Equation\n",
    "* Problem 12: Optimization\n",
    "\n",
    "A template for each problem is provided with instructions on what is needed. In some cases, the problem is to debug a section of code to produce a specific result. In other cases, the problem is to import a module and produce a result. This exam allows open access to any online resources, prior homework solutions, or other files."
   ]
  },
  {
   "cell_type": "code",
   "execution_count": 1,
   "metadata": {},
   "outputs": [
    {
     "name": "stdout",
     "output_type": "stream",
     "text": [
      "Current conda install:\n",
      "\n",
      "               platform : win-64\n",
      "          conda version : 4.3.30\n",
      "       conda is private : False\n",
      "      conda-env version : 4.3.30\n",
      "    conda-build version : 3.0.27\n",
      "         python version : 3.6.3.final.0\n",
      "       requests version : 2.18.4\n",
      "       root environment : C:\\Anaconda3  (writable)\n",
      "    default environment : C:\\Anaconda3\n",
      "       envs directories : C:\\Anaconda3\\envs\n",
      "                          C:\\Users\\John Hedengren\\AppData\\Local\\conda\\conda\\envs\n",
      "                          C:\\Users\\John Hedengren\\.conda\\envs\n",
      "          package cache : C:\\Anaconda3\\pkgs\n",
      "                          C:\\Users\\John Hedengren\\AppData\\Local\\conda\\conda\\pkgs\n",
      "           channel URLs : https://repo.continuum.io/pkgs/main/win-64\n",
      "                          https://repo.continuum.io/pkgs/main/noarch\n",
      "                          https://repo.continuum.io/pkgs/free/win-64\n",
      "                          https://repo.continuum.io/pkgs/free/noarch\n",
      "                          https://repo.continuum.io/pkgs/r/win-64\n",
      "                          https://repo.continuum.io/pkgs/r/noarch\n",
      "                          https://repo.continuum.io/pkgs/pro/win-64\n",
      "                          https://repo.continuum.io/pkgs/pro/noarch\n",
      "                          https://repo.continuum.io/pkgs/msys2/win-64\n",
      "                          https://repo.continuum.io/pkgs/msys2/noarch\n",
      "            config file : C:\\Users\\John Hedengren\\.condarc\n",
      "             netrc file : None\n",
      "           offline mode : False\n",
      "             user-agent : conda/4.3.30 requests/2.18.4 CPython/3.6.3 Windows/10 Windows/10.0.17134    \n",
      "          administrator : False\n"
     ]
    }
   ],
   "source": [
    "!conda info"
   ]
  },
  {
   "cell_type": "code",
   "execution_count": 2,
   "metadata": {},
   "outputs": [
    {
     "name": "stdout",
     "output_type": "stream",
     "text": [
      "Requirement already satisfied: gekko in c:\\anaconda3\\lib\\site-packages (0.0.4rc3)\n",
      "Requirement already satisfied: numpy>=1.8 in c:\\anaconda3\\lib\\site-packages (from gekko) (1.13.3)\n",
      "Requirement already satisfied: flask in c:\\anaconda3\\lib\\site-packages (from gekko) (0.12.2)\n",
      "Requirement already satisfied: Werkzeug>=0.7 in c:\\anaconda3\\lib\\site-packages (from flask->gekko) (0.12.2)\n",
      "Requirement already satisfied: Jinja2>=2.4 in c:\\anaconda3\\lib\\site-packages (from flask->gekko) (2.9.6)\n",
      "Requirement already satisfied: itsdangerous>=0.21 in c:\\anaconda3\\lib\\site-packages (from flask->gekko) (0.24)\n",
      "Requirement already satisfied: click>=2.0 in c:\\anaconda3\\lib\\site-packages (from flask->gekko) (6.7)\n",
      "Requirement already satisfied: MarkupSafe>=0.23 in c:\\anaconda3\\lib\\site-packages (from Jinja2>=2.4->flask->gekko) (1.0)\n"
     ]
    }
   ],
   "source": [
    "# install new packages with \"!pip install module-name\"\n",
    "!pip install gekko"
   ]
  },
  {
   "cell_type": "code",
   "execution_count": 3,
   "metadata": {},
   "outputs": [
    {
     "name": "stdout",
     "output_type": "stream",
     "text": [
      "Hello, World!\n",
      "Hello, BYU Student!\n"
     ]
    }
   ],
   "source": [
    "print('Hello, World!')\n",
    "\n",
    "myName = 'BYU Student'  # input('Name: ')\n",
    "print('Hello, ' + myName + '!')"
   ]
  },
  {
   "cell_type": "markdown",
   "metadata": {},
   "source": [
    "## Problem 1: Variable types and formats\n",
    "\n",
    "#### Part A\n",
    "Add **x=5** and **y='4'** together to produce a string (54) in addition to the example code of below of adding them as integers (9). In addition to printing the results, show the type of variable with **type()** to confirm that the result is a string.\n",
    "\n",
    "Hint: An integer is converted to a string with **str()** and a string is converted to an integer with **int()**."
   ]
  },
  {
   "cell_type": "code",
   "execution_count": 4,
   "metadata": {},
   "outputs": [
    {
     "name": "stdout",
     "output_type": "stream",
     "text": [
      "5\n",
      "<class 'int'>\n",
      "23\n",
      "<class 'str'>\n"
     ]
    }
   ],
   "source": [
    "x = 2\n",
    "y = '3'\n",
    "\n",
    "# adding two integers together (5)\n",
    "z = x + int(y)\n",
    "# show the result of adding 2+3\n",
    "print(z)\n",
    "# show that z is an integer\n",
    "print(type(z))\n",
    "\n",
    "# add strings\n",
    "z = str(x)+y\n",
    "print(z)\n",
    "print(type(z))\n"
   ]
  },
  {
   "cell_type": "markdown",
   "metadata": {},
   "source": [
    "#### Part B\n",
    "\n",
    "Show the result of $y = exp(0.0)$ and $z = 1.0$ to 20 decimal places. Is there a difference in the results?"
   ]
  },
  {
   "cell_type": "code",
   "execution_count": 5,
   "metadata": {},
   "outputs": [
    {
     "name": "stdout",
     "output_type": "stream",
     "text": [
      "NumPy version:\n",
      "1.13.3\n"
     ]
    }
   ],
   "source": [
    "import numpy as np\n",
    "print('NumPy version:')\n",
    "print(np.__version__)\n",
    "\n",
    "y = np.exp(0.0)\n",
    "z = 1.0"
   ]
  },
  {
   "cell_type": "code",
   "execution_count": 6,
   "metadata": {},
   "outputs": [
    {
     "name": "stdout",
     "output_type": "stream",
     "text": [
      "y = 1.00000000000000000000\n",
      "z = 1.00000000000000000000\n",
      "Another way to format numbers\n",
      "z = 1.00000000000000000000\n",
      "Difference\n",
      "0.00000000000000000000e+00\n"
     ]
    }
   ],
   "source": [
    "#### Solution\n",
    "print('y = {:.20f}'.format(y))\n",
    "print('z = {:.20f}'.format(z))\n",
    "\n",
    "print('Another way to format numbers')\n",
    "print('z = %.20f' %z)\n",
    "\n",
    "# difference\n",
    "print('Difference')\n",
    "print('{:.20e}'.format(y-z))"
   ]
  },
  {
   "cell_type": "markdown",
   "metadata": {},
   "source": [
    "## Plots"
   ]
  },
  {
   "cell_type": "code",
   "execution_count": 7,
   "metadata": {},
   "outputs": [
    {
     "data": {
      "image/png": "[encoded data removed]",
      "text/plain": [
       "<matplotlib.figure.Figure at 0x207be3aadd8>"
      ]
     },
     "metadata": {},
     "output_type": "display_data"
    },
    {
     "data": {
      "image/png": "[encoded data removed]",
      "text/plain": [
       "<matplotlib.figure.Figure at 0x207bf3903c8>"
      ]
     },
     "metadata": {},
     "output_type": "display_data"
    }
   ],
   "source": [
    "%matplotlib inline\n",
    "import matplotlib.pyplot as plt\n",
    "\n",
    "x = np.linspace(0,10)\n",
    "y = np.sin(x)\n",
    "z = np.cos(x)\n",
    "\n",
    "plt.figure(1)\n",
    "plt.plot(x,y,'r--',label='sine')\n",
    "plt.plot(x,z,'b-.',label='cosine')\n",
    "plt.legend(loc='best')\n",
    "\n",
    "plt.figure(2)\n",
    "plt.subplot(2,1,1)\n",
    "plt.plot(x,y,'r--',linewidth=5)\n",
    "plt.legend(['sin(x)'],loc='best')\n",
    "plt.ylabel('sin(x)')\n",
    "plt.subplot(2,1,2)\n",
    "plt.plot(x,z,'bo',markersize=5)\n",
    "plt.legend(['cosine(x)'],loc='best')\n",
    "plt.xlabel('x')\n",
    "plt.ylabel('cos(x)')\n",
    "plt.savefig('myPlot.png')\n",
    "plt.savefig('myPlot.eps')\n"
   ]
  },
  {
   "cell_type": "markdown",
   "metadata": {},
   "source": [
    "## Problem 2: Read / Write Files"
   ]
  },
  {
   "cell_type": "code",
   "execution_count": 8,
   "metadata": {},
   "outputs": [
    {
     "name": "stdout",
     "output_type": "stream",
     "text": [
      "Writing to a text file \n",
      "\n",
      "Second lineThird line?\n"
     ]
    },
    {
     "data": {
      "text/plain": [
       "Text(0,0.5,'cos(x)')"
      ]
     },
     "execution_count": 8,
     "metadata": {},
     "output_type": "execute_result"
    },
    {
     "data": {
      "image/png": "[encoded data removed]",
      "text/plain": [
       "<matplotlib.figure.Figure at 0x207bb3349b0>"
      ]
     },
     "metadata": {},
     "output_type": "display_data"
    }
   ],
   "source": [
    "# write messages or data to file\n",
    "fid = open('msg.txt','w')\n",
    "fid.write('Writing to a text file \\n')\n",
    "fid.write('Second line')\n",
    "fid.write('Third line?')\n",
    "fid.close()\n",
    "\n",
    "# read one line at a time\n",
    "fid = open('msg.txt','r')\n",
    "text = fid.readline()\n",
    "print(text)\n",
    "text = fid.readline()\n",
    "print(text)\n",
    "fid.close()\n",
    "\n",
    "x = np.linspace(0,2*np.pi,20)\n",
    "y = np.cos(x)\n",
    "\n",
    "#--- stack rows together from (x,y) to produce data \n",
    "#--- then transpose data to convert rows into columns\n",
    "data = np.vstack((x,y))\n",
    "data = data.T\n",
    "\n",
    "#--- save data to data.txt\n",
    "np.savetxt('data.txt',data)\n",
    "#--- load text file\n",
    "z = np.loadtxt('data.txt')\n",
    "#print(z)\n",
    "\n",
    "#--- create plot of y = sin(x)\n",
    "plt.plot(x,y,linewidth=3)\n",
    "plt.plot(z[:,0],z[:,1],'ro')\n",
    "plt.xlabel('x')\n",
    "plt.ylabel('cos(x)')"
   ]
  },
  {
   "cell_type": "markdown",
   "metadata": {},
   "source": [
    "## Problem 3: Functions, Conditionals, and Loops"
   ]
  },
  {
   "cell_type": "code",
   "execution_count": 9,
   "metadata": {},
   "outputs": [
    {
     "data": {
      "text/plain": [
       "Text(0.5,0,'y')"
      ]
     },
     "execution_count": 9,
     "metadata": {},
     "output_type": "execute_result"
    },
    {
     "data": {
      "image/png": "[encoded data removed]",
      "text/plain": [
       "<matplotlib.figure.Figure at 0x207be3aa3c8>"
      ]
     },
     "metadata": {},
     "output_type": "display_data"
    }
   ],
   "source": [
    "def f(x):\n",
    "    y = x**2\n",
    "    if y>=20:\n",
    "        y = np.nan # nan = not a number\n",
    "    return y\n",
    "\n",
    "x = np.linspace(0,5,100)\n",
    "y = np.empty_like(x)\n",
    "\n",
    "# calculate with loop\n",
    "i = 0\n",
    "for xi in x:\n",
    "    y[i] = f(xi)\n",
    "    i = i + 1\n",
    "\n",
    "# plot result\n",
    "plt.plot(x,y)\n",
    "# optional to make plot look better\n",
    "plt.xlim([0,5])\n",
    "plt.ylim([0,30])\n",
    "plt.title('Clipped Function')\n",
    "plt.ylabel('x')\n",
    "plt.xlabel('y')"
   ]
  },
  {
   "cell_type": "markdown",
   "metadata": {},
   "source": [
    "## Problem 4: Matrices, Solve Linear Equations"
   ]
  },
  {
   "cell_type": "code",
   "execution_count": 10,
   "metadata": {},
   "outputs": [
    {
     "name": "stdout",
     "output_type": "stream",
     "text": [
      "A matrix\n",
      "[[3 2]\n",
      " [1 2]]\n",
      "b vector\n",
      "[1 0]\n",
      "[ 0.5  -0.25]\n",
      "[ 0.5  -0.25]\n",
      "{(1/2, -1/4)}\n",
      "{(1/2, -1/4)}\n"
     ]
    },
    {
     "data": {
      "text/plain": [
       "{(1/2, -1/4)}"
      ]
     },
     "metadata": {},
     "output_type": "display_data"
    }
   ],
   "source": [
    "A = np.array([[3,2],[1,2]])\n",
    "print('A matrix')\n",
    "print(A)\n",
    "\n",
    "# b in matrix form\n",
    "b = np.array([1,0])\n",
    "print('b vector')\n",
    "print(b)\n",
    "\n",
    "#### Solution 1\n",
    "x = np.dot(np.linalg.inv(A),b)\n",
    "print(x)\n",
    "\n",
    "#### Solution 2\n",
    "x = np.linalg.solve(A,b)\n",
    "print(x)\n",
    "\n",
    "#### Solution 3\n",
    "import sympy as sym\n",
    "from IPython.display import display\n",
    "x, y = sym.symbols('x y')\n",
    "ans = sym.linsolve([3*x + 2*y - 1, x + 2*y], (x, y))\n",
    "# 3 ways to display answer (ans)\n",
    "print(ans)\n",
    "sym.pprint(ans)\n",
    "display(ans)"
   ]
  },
  {
   "cell_type": "markdown",
   "metadata": {},
   "source": [
    "## Problem 5: Solve Nonlinear Equations"
   ]
  },
  {
   "cell_type": "code",
   "execution_count": 11,
   "metadata": {},
   "outputs": [
    {
     "name": "stdout",
     "output_type": "stream",
     "text": [
      "[-0.89442719  0.4472136 ]\n"
     ]
    },
    {
     "data": {
      "image/png": "[encoded data removed]",
      "text/latex": [
       "$$\\left\\{\\left ( - \\frac{2 \\sqrt{5}}{5}, \\quad \\frac{\\sqrt{5}}{5}\\right ), \\left ( \\frac{2 \\sqrt{5}}{5}, \\quad - \\frac{\\sqrt{5}}{5}\\right )\\right\\}$$"
      ],
      "text/plain": [
       "⎧⎛-2⋅√5   √5⎞  ⎛2⋅√5  -√5 ⎞⎫\n",
       "⎨⎜──────, ──⎟, ⎜────, ────⎟⎬\n",
       "⎩⎝  5     5 ⎠  ⎝ 5     5  ⎠⎭"
      ]
     },
     "metadata": {},
     "output_type": "display_data"
    }
   ],
   "source": [
    "from scipy.optimize import fsolve\n",
    "import sympy as sym\n",
    "sym.init_printing()\n",
    "\n",
    "#### Solution with fsolve\n",
    "def f(z):\n",
    "    x = z[0]\n",
    "    y = z[1]\n",
    "    return [x + 2*y, x**2+y**2-1]\n",
    "\n",
    "zguess = [0,1]\n",
    "z = fsolve(f,zguess)\n",
    "print(z)\n",
    "\n",
    "#### Solution with Sympy\n",
    "ans = sym.nonlinsolve([x + 2*y, x**2+y**2-1], [x,y])\n",
    "display(ans)"
   ]
  },
  {
   "cell_type": "markdown",
   "metadata": {},
   "source": [
    "## Problem 6: Integration"
   ]
  },
  {
   "cell_type": "code",
   "execution_count": 12,
   "metadata": {},
   "outputs": [
    {
     "name": "stdout",
     "output_type": "stream",
     "text": [
      "SciPy Solution\n",
      "2.666666666666667\n",
      "2.6666666666666665\n",
      "SymPy Solution\n",
      "x**3/3\n",
      " 3\n",
      "x \n",
      "──\n",
      "3 \n"
     ]
    },
    {
     "data": {
      "image/png": "[encoded data removed]",
      "text/latex": [
       "$$\\frac{x^{3}}{3}$$"
      ],
      "text/plain": [
       " 3\n",
       "x \n",
       "──\n",
       "3 "
      ]
     },
     "metadata": {},
     "output_type": "display_data"
    }
   ],
   "source": [
    "from scipy.integrate import quad\n",
    "import sympy as sym\n",
    "\n",
    "#### Solution (scipy)\n",
    "print('SciPy Solution')\n",
    "def f(x):\n",
    "    return x**2\n",
    "print(quad(f,0,2)[0])\n",
    "print(8/3)\n",
    "\n",
    "#### Solution (sympy)\n",
    "print('SymPy Solution')\n",
    "x = sym.Symbol('x')\n",
    "f = sym.integrate(x**2,x)\n",
    "print(f)\n",
    "sym.pprint(f)\n",
    "display(f)"
   ]
  },
  {
   "cell_type": "markdown",
   "metadata": {},
   "source": [
    "## Problem 7: Differentiate"
   ]
  },
  {
   "cell_type": "code",
   "execution_count": 13,
   "metadata": {},
   "outputs": [
    {
     "name": "stdout",
     "output_type": "stream",
     "text": [
      "11.0\n",
      "10.0000008274\n",
      "10.00000082740371\n",
      "10.0000000000000\n",
      "   2              \n",
      "3⋅x  + 4.0⋅x + 3.0\n"
     ]
    },
    {
     "data": {
      "image/png": "[encoded data removed]",
      "text/latex": [
       "$$3 x^{2} + 4.0 x + 3.0$$"
      ],
      "text/plain": [
       "   2              \n",
       "3⋅x  + 4.0⋅x + 3.0"
      ]
     },
     "metadata": {},
     "output_type": "display_data"
    }
   ],
   "source": [
    "from scipy.misc import derivative\n",
    "import sympy as sym\n",
    "\n",
    "# numeric method 1\n",
    "def f(x):\n",
    "    return x**3 + 2.0*x**2 + 3.0*x + 1.0\n",
    "print(derivative(f,1))\n",
    "print(derivative(f,1,dx=1e-10))\n",
    "der = (f(1.0+1e-10) - f(1.0-1e-10))/2.e-10\n",
    "print(der)\n",
    "#help(derivative)\n",
    "\n",
    "# analytic solution with sympy\n",
    "x = sym.Symbol('x')\n",
    "f=sym.diff(x**3 + 2.0*x**2 + 3.0*x + 1.0,x)\n",
    "print(f.subs(x,1))\n",
    "sym.pprint(f)\n",
    "display(f)"
   ]
  },
  {
   "cell_type": "markdown",
   "metadata": {},
   "source": [
    "## Problem 8: Interpolation\n"
   ]
  },
  {
   "cell_type": "code",
   "execution_count": 14,
   "metadata": {},
   "outputs": [
    {
     "name": "stdout",
     "output_type": "stream",
     "text": [
      "0.5\n",
      "0.5\n"
     ]
    },
    {
     "data": {
      "text/plain": [
       "[<matplotlib.lines.Line2D at 0x207c1cfb160>]"
      ]
     },
     "execution_count": 14,
     "metadata": {},
     "output_type": "execute_result"
    },
    {
     "data": {
      "image/png": "[encoded data removed]",
      "text/plain": [
       "<matplotlib.figure.Figure at 0x207c1c8fc50>"
      ]
     },
     "metadata": {},
     "output_type": "display_data"
    }
   ],
   "source": [
    "from scipy.interpolate import interp1d\n",
    "x = np.array([0,1,2,3,4,5])\n",
    "y = np.array([0.1,0.2,0.3,0.5,1.0,0.9])\n",
    "plt.plot(x,y,'bo')\n",
    "\n",
    "xp = np.linspace(0,5,100)\n",
    "y1 = interp1d(x,y,kind='linear')\n",
    "print(y1(3))\n",
    "plt.plot(xp,y1(xp),'g-')\n",
    "\n",
    "y2 = interp1d(x,y,kind='quadratic')\n",
    "print(y2(3))\n",
    "plt.plot(xp,y2(xp),'r--')"
   ]
  },
  {
   "cell_type": "markdown",
   "metadata": {},
   "source": [
    "## Problem 9: Linear and Polynomial Regression"
   ]
  },
  {
   "cell_type": "code",
   "execution_count": 15,
   "metadata": {},
   "outputs": [
    {
     "name": "stdout",
     "output_type": "stream",
     "text": [
      "[ 0.04166667 -0.2         0.33690476  0.07857143]\n"
     ]
    },
    {
     "data": {
      "text/plain": [
       "Text(0,0.5,'y')"
      ]
     },
     "execution_count": 15,
     "metadata": {},
     "output_type": "execute_result"
    },
    {
     "data": {
      "image/png": "[encoded data removed]",
      "text/plain": [
       "<matplotlib.figure.Figure at 0x207bf3ad588>"
      ]
     },
     "metadata": {},
     "output_type": "display_data"
    }
   ],
   "source": [
    "x = np.array([0,1,2,3,4,5])\n",
    "y = np.array([0.1,0.2,0.3,0.5,0.8,2.0])\n",
    "\n",
    "#### Solution\n",
    "# linear\n",
    "p1 = np.polyfit(x,y,1)\n",
    "# quadratic\n",
    "p2 = np.polyfit(x,y,2)\n",
    "# cubic\n",
    "p3 = np.polyfit(x,y,3)\n",
    "print(p3)\n",
    "\n",
    "# plot fit\n",
    "plt.plot(x,y,'ko',markersize=10)\n",
    "xp = np.linspace(0,5,100)\n",
    "plt.plot(xp,np.polyval(p1,xp),'b--',linewidth=2)\n",
    "plt.plot(xp,np.polyval(p2,xp),'r--',linewidth=3)\n",
    "plt.plot(xp,np.polyval(p3,xp),'g:',linewidth=2)\n",
    "plt.legend(['Data','Linear','Quadratic','Cubic'],loc='best')\n",
    "plt.xlabel('x')\n",
    "plt.ylabel('y')"
   ]
  },
  {
   "cell_type": "markdown",
   "metadata": {},
   "source": [
    "## Problem 10: Nonlinear Regression"
   ]
  },
  {
   "cell_type": "code",
   "execution_count": 16,
   "metadata": {},
   "outputs": [
    {
     "name": "stdout",
     "output_type": "stream",
     "text": [
      "a = [ 0.58628748]\n"
     ]
    },
    {
     "data": {
      "text/plain": [
       "[<matplotlib.lines.Line2D at 0x207c1cbd9b0>]"
      ]
     },
     "execution_count": 16,
     "metadata": {},
     "output_type": "execute_result"
    },
    {
     "data": {
      "image/png": "[encoded data removed]",
      "text/plain": [
       "<matplotlib.figure.Figure at 0x207c1ce9e80>"
      ]
     },
     "metadata": {},
     "output_type": "display_data"
    }
   ],
   "source": [
    "from scipy.optimize import curve_fit\n",
    "\n",
    "x = np.array([0,1,2,3,4,5])\n",
    "y = np.array([0.1,0.2,0.3,0.5,0.8,2.0])\n",
    "\n",
    "## Solution\n",
    "def f(x,a):\n",
    "    return 0.1 * np.exp(a*x)\n",
    "\n",
    "aopt, pcov = curve_fit(f,x,y)\n",
    "print('a = '+str(aopt))\n",
    "\n",
    "plt.plot(x,y,'bo')\n",
    "xp = np.linspace(0,5)\n",
    "plt.plot(xp,f(xp,aopt),'r-')"
   ]
  },
  {
   "cell_type": "markdown",
   "metadata": {},
   "source": [
    "## Problem 11: Solve Differential Equation\n",
    "\n",
    "Solve the following differential equation with initial condition $y(0) = 5$:\n",
    "\n",
    "$ k \\, \\frac{dy}{dt} = -t \\, y$\n",
    "\n",
    "where $k=10$. The solution of $y(t)$ should be reported from an initial time $0$ to final time $20$. Create of plot of the result for $y(t)$ versus $t$. "
   ]
  },
  {
   "cell_type": "code",
   "execution_count": 17,
   "metadata": {},
   "outputs": [
    {
     "data": {
      "text/plain": [
       "Text(0,0.5,'y')"
      ]
     },
     "execution_count": 17,
     "metadata": {},
     "output_type": "execute_result"
    },
    {
     "data": {
      "image/png": "[encoded data removed]",
      "text/plain": [
       "<matplotlib.figure.Figure at 0x207c20484a8>"
      ]
     },
     "metadata": {},
     "output_type": "display_data"
    }
   ],
   "source": [
    "from scipy.integrate import odeint\n",
    "\n",
    "def dydt(y,t,k):\n",
    "    return -t*y/k\n",
    "\n",
    "k = 10.0\n",
    "t = np.linspace(0,20)\n",
    "y0 = 5.0\n",
    "y = odeint(dydt,y0,t,args=(k,))\n",
    "plt.plot(t,y)\n",
    "plt.xlabel('time')\n",
    "plt.ylabel('y')"
   ]
  },
  {
   "cell_type": "markdown",
   "metadata": {},
   "source": [
    "## Problem 12: Nonlinear Optimization\n",
    "\n",
    "Solve the following nonlinear optimization problem:\n",
    "\n",
    "$\\min x_1 x_4 \\left(x_1 + x_2 + x_3\\right) + x_3$\n",
    "\n",
    "$\\mathrm{s.t.} \\quad x_1 x_2 x_3 x_4 \\ge 25$\n",
    "\n",
    "$x_1^2 + x_2^2 + x_3^2 + x_4^2 = 40$\n",
    "\n",
    "$1\\le x_1, x_2, x_3, x_4 \\le 5$\n",
    "\n",
    "with initial conditions:\n",
    "\n",
    "$x_0 = (1,5,5,1)$\n"
   ]
  },
  {
   "cell_type": "code",
   "execution_count": 18,
   "metadata": {},
   "outputs": [
    {
     "name": "stdout",
     "output_type": "stream",
     "text": [
      "Initial Objective: 16.0\n",
      "Final Objective: 17.0140172456\n",
      "Solution\n",
      "x1 = 1.0\n",
      "x2 = 4.74299609688\n",
      "x3 = 3.82115462341\n",
      "x4 = 1.37940764508\n"
     ]
    }
   ],
   "source": [
    "import numpy as np\n",
    "from scipy.optimize import minimize\n",
    "\n",
    "def objective(x):\n",
    "    return x[0]*x[3]*(x[0]+x[1]+x[2])+x[2]\n",
    "\n",
    "def constraint1(x):\n",
    "    return x[0]*x[1]*x[2]*x[3]-25.0\n",
    "\n",
    "def constraint2(x):\n",
    "    sum_eq = 40.0\n",
    "    for i in range(4):\n",
    "        sum_eq = sum_eq - x[i]**2\n",
    "    return sum_eq\n",
    "\n",
    "# initial guesses\n",
    "n = 4\n",
    "x0 = np.zeros(n)\n",
    "x0[0] = 1.0\n",
    "x0[1] = 5.0\n",
    "x0[2] = 5.0\n",
    "x0[3] = 1.0\n",
    "\n",
    "# show initial objective\n",
    "print('Initial Objective: ' + str(objective(x0)))\n",
    "\n",
    "# optimize\n",
    "b = (1.0,5.0)\n",
    "bnds = (b, b, b, b)\n",
    "con1 = {'type': 'ineq', 'fun': constraint1} \n",
    "con2 = {'type': 'eq', 'fun': constraint2}\n",
    "cons = ([con1,con2])\n",
    "solution = minimize(objective,x0,method='SLSQP',\\\n",
    "                    bounds=bnds,constraints=cons)\n",
    "x = solution.x\n",
    "\n",
    "# show final objective\n",
    "print('Final Objective: ' + str(objective(x)))\n",
    "\n",
    "# print solution\n",
    "print('Solution')\n",
    "print('x1 = ' + str(x[0]))\n",
    "print('x2 = ' + str(x[1]))\n",
    "print('x3 = ' + str(x[2]))\n",
    "print('x4 = ' + str(x[3]))"
   ]
  },
  {
   "cell_type": "markdown",
   "metadata": {},
   "source": [
    "#### Use Python GEKKO\n",
    "\n",
    "See [GEKKO documentation](http://gekko.readthedocs.io/en/latest/overview.html) and [example problems](https://apmonitor.com/wiki/index.php/Main/GekkoPythonOptimization). GEKKO is a Python package developed in the [BYU PRISM Lab](https://apm.byu.edu/prism) by [Logan Beal](https://www.linkedin.com/in/logan-beal-2461ba57). Logan is supported by the National Science Foundation, [Grant #1547110](https://nsf.gov/awardsearch/showAward?AWD_ID=1547110), EAGER: Cyber-Manufacturing with Multi-echelon Control and Scheduling."
   ]
  },
  {
   "cell_type": "code",
   "execution_count": 19,
   "metadata": {},
   "outputs": [
    {
     "name": "stdout",
     "output_type": "stream",
     "text": [
      "Final Objective: 17.0140171\n",
      "Solution\n",
      "x1: [1.0]\n",
      "x2: [4.743]\n",
      "x3: [3.82115]\n",
      "x4: [1.379408]\n"
     ]
    }
   ],
   "source": [
    "from gekko import GEKKO\n",
    "\n",
    "# Initialize Model\n",
    "m = GEKKO()\n",
    "\n",
    "# initialize variables\n",
    "x1,x2,x3,x4 = [m.Var(lb=1, ub=5) for i in range(4)]\n",
    "\n",
    "# initial values\n",
    "x1.value = 1\n",
    "x2.value = 5\n",
    "x3.value = 5\n",
    "x4.value = 1\n",
    "\n",
    "# Equations\n",
    "m.Equation(x1*x2*x3*x4>=25)\n",
    "m.Equation(x1**2+x2**2+x3**2+x4**2==40)\n",
    "\n",
    "# Objective\n",
    "m.Obj(x1*x4*(x1+x2+x3)+x3)\n",
    "\n",
    "# Solve\n",
    "m.solve(disp=False)\n",
    "\n",
    "# show final objective\n",
    "print('Final Objective: ' + str(m.options.objfcnval))\n",
    "\n",
    "# print solution\n",
    "print('Solution')\n",
    "print('x1: ' + str(x1.value))\n",
    "print('x2: ' + str(x2.value))\n",
    "print('x3: ' + str(x3.value))\n",
    "print('x4: ' + str(x4.value))"
   ]
  }
 ],
 "metadata": {
  "kernelspec": {
   "display_name": "Python 3",
   "language": "python",
   "name": "python3"
  },
  "language_info": {
   "codemirror_mode": {
    "name": "ipython",
    "version": 3
   },
   "file_extension": ".py",
   "mimetype": "text/x-python",
   "name": "python",
   "nbconvert_exporter": "python",
   "pygments_lexer": "ipython3",
   "version": "3.6.3"
  }
 },
 "nbformat": 4,
 "nbformat_minor": 1
}
