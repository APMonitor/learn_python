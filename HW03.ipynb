{
 "cells": [
  {
   "cell_type": "markdown",
   "metadata": {},
   "source": [
    "## Homework 3\n",
    "\n",
    "* Linear systems of equations\n",
    "* Nonlinear systems of equations"
   ]
  },
  {
   "cell_type": "markdown",
   "metadata": {},
   "source": [
    "#### Problem #1\n",
    "Solution in Python for comparison to Excel solution."
   ]
  },
  {
   "cell_type": "code",
   "execution_count": 5,
   "metadata": {},
   "outputs": [
    {
     "name": "stdout",
     "output_type": "stream",
     "text": [
      "NumPy Solution\n",
      "[ 1.42390247  6.89546722 -0.62518643  1.31366319  3.66850399]\n",
      "Gekko Solution\n",
      "[1.4239024707]\n",
      "[6.89546722]\n",
      "[-0.62518643408]\n",
      "[1.3136631866]\n",
      "[3.6685039881]\n"
     ]
    }
   ],
   "source": [
    "# method 1: NumPy\n",
    "from numpy.linalg import solve\n",
    "A = [[11.0, 3.0, 0.0,  1.0,  2.0],\\\n",
    "     [ 0.0, 4.0, 2.0,  0.0,  1.0],\\\n",
    "     [ 3.0, 2.0, 7.0,  1.0,  0.0],\\\n",
    "     [ 4.0, 0.0, 4.0, 10.0,  1.0],\\\n",
    "     [ 2.0, 5.0, 1.0,  3.0, 14.0]]\n",
    "b = [45.0, 30.0, 15.0, 20.0, 92.0]\n",
    "x = solve(A,b)\n",
    "print('NumPy Solution')\n",
    "print(x)\n",
    "\n",
    "# method 2: Gekko\n",
    "# install Gekko, if needed\n",
    "try:\n",
    "    from gekko import GEKKO\n",
    "except:\n",
    "    try:\n",
    "        from pip import main as pipmain\n",
    "    except:\n",
    "        from pip._internal import main as pipmain\n",
    "    pipmain(['install','gekko'])\n",
    "    from gekko import GEKKO\n",
    "\n",
    "m = GEKKO()\n",
    "x1,x2,x3,x4,x5 = [m.Var() for i in range(5)]\n",
    "m.Equation(11*x1+3*x2+x4+2*x5==45)\n",
    "m.Equation(4*x2+2*x3+x5==30)\n",
    "m.Equation(3*x1+2*x2+7*x3+x4==15)\n",
    "m.Equation(4*x1+4*x3+10*x4+x5==20)\n",
    "m.Equation(2*x1+5*x2+x3+3*x4+14*x5==92)\n",
    "m.solve(disp=False)\n",
    "print('Gekko Solution')\n",
    "print(x1.value)\n",
    "print(x2.value)\n",
    "print(x3.value)\n",
    "print(x4.value)\n",
    "print(x5.value) "
   ]
  },
  {
   "cell_type": "markdown",
   "metadata": {},
   "source": [
    "#### Problem #2\n",
    "Solution in Python for comparison to Excel solution."
   ]
  },
  {
   "cell_type": "code",
   "execution_count": 2,
   "metadata": {},
   "outputs": [
    {
     "name": "stdout",
     "output_type": "stream",
     "text": [
      "NumPy Solution\n",
      "0.2912703797138028 0.911220682273395\n",
      "Gekko Solution\n",
      "[0.29127037975]\n",
      "[0.91122068228]\n"
     ]
    }
   ],
   "source": [
    "# method 1: NumPy\n",
    "from scipy.optimize import fsolve\n",
    "def f(z):\n",
    "    x,y=z\n",
    "    f1 = 2*x**2+y**2-1\n",
    "    f2 = (0.5*x-0.5)**2+2.0*(y-0.25)**2-1\n",
    "    return [f1,f2]\n",
    "x,y = fsolve(f,[1,1])\n",
    "print('NumPy Solution')\n",
    "print(x,y)\n",
    "\n",
    "# method 2: Gekko\n",
    "from gekko import GEKKO\n",
    "m = GEKKO()\n",
    "x,y = [m.Var(value=1) for i in range(2)]\n",
    "m.Equation(2*x**2+y**2==1)\n",
    "m.Equation((0.5*x-0.5)**2+2.0*(y-0.25)**2==1)\n",
    "m.solve(disp=False)\n",
    "print('Gekko Solution')\n",
    "print(x.value)\n",
    "print(y.value) "
   ]
  },
  {
   "cell_type": "markdown",
   "metadata": {},
   "source": [
    "#### Problem #3\n",
    "Solution in Python for comparison to Excel solution."
   ]
  },
  {
   "cell_type": "code",
   "execution_count": 3,
   "metadata": {},
   "outputs": [
    {
     "name": "stdout",
     "output_type": "stream",
     "text": [
      "NumPy Solution\n",
      "[82.47889063] [28638.68633461]\n",
      "Gekko Solution\n",
      "[82.478890626, 28638.686335]\n"
     ]
    }
   ],
   "source": [
    "import numpy as np\n",
    "from scipy.optimize import fsolve\n",
    "\n",
    "# constants\n",
    "TC = 77 # degC\n",
    "P = 1.0 # bar\n",
    "a = 2.877e8 # cm^6 bar K^0.5 / mol^2\n",
    "b = 60.211  # cm^3 / mol\n",
    "Rg = 83.144598 # cm^3 bar / K-mol\n",
    "# derived quantities\n",
    "TK = TC+273.15 # K\n",
    "\n",
    "# method #1: NumPy\n",
    "def f(V):\n",
    "    return P - Rg*TK/(V-b)+a/(np.sqrt(TK)*V*(V+b))\n",
    "V_liq = fsolve(f,82)    # Liquid root \n",
    "V_vap = fsolve(f,28600) # Vapor root \n",
    "print('NumPy Solution')\n",
    "print(V_liq,V_vap)\n",
    "\n",
    "# method #2: Gekko\n",
    "from gekko import GEKKO\n",
    "m = GEKKO()\n",
    "V = m.Var(value=[82,28600])\n",
    "m.Equation(P==Rg*TK/(V-b)-a/(m.sqrt(TK)*V*(V+b)))\n",
    "m.options.IMODE=2\n",
    "m.solve(disp=False)\n",
    "print('Gekko Solution')\n",
    "print(V.value)"
   ]
  },
  {
   "cell_type": "markdown",
   "metadata": {},
   "source": [
    "#### Problem #4\n",
    "Solution in Python for comparison to Excel solution."
   ]
  },
  {
   "cell_type": "code",
   "execution_count": 4,
   "metadata": {},
   "outputs": [
    {
     "name": "stdout",
     "output_type": "stream",
     "text": [
      "Gekko Solution\n",
      "x1: [0.17262755316]\n",
      "x2: [0.82737244684]\n",
      "T:  [109.13089106]\n"
     ]
    }
   ],
   "source": [
    "from gekko import GEKKO\n",
    "\n",
    "# constants\n",
    "y1 = 0.33\n",
    "y2 = 1.0-y1\n",
    "P = 120.0 # kPa\n",
    "\n",
    "# Antoine constants\n",
    "# Benzene\n",
    "ac1 = [13.7819, 2726.81, 217.572]\n",
    "# Toluene\n",
    "ac2 = [13.9320, 3056.96, 217.625]\n",
    "\n",
    "# gekko model\n",
    "m = GEKKO()\n",
    "T = m.Var(value=100)\n",
    "x1,x2 = [m.Var(value=0.5,lb=0,ub=1) for i in range(2)]\n",
    "# vapor pressure\n",
    "Psat1 = m.Intermediate(m.exp(ac1[0]-ac1[1]/(T+ac1[2])))\n",
    "Psat2 = m.Intermediate(m.exp(ac2[0]-ac2[1]/(T+ac2[2])))\n",
    "# Raoult's law\n",
    "m.Equation(y1*P==x1*Psat1)\n",
    "m.Equation(y2*P==x2*Psat2)\n",
    "m.Equation(x1+x2==1)\n",
    "m.options.IMODE=1\n",
    "m.solve(disp=False)\n",
    "print('Gekko Solution')\n",
    "print('x1: ' + str(x1.value))\n",
    "print('x2: ' + str(x2.value))\n",
    "print('T:  ' + str(T.value))"
   ]
  }
 ],
 "metadata": {
  "kernelspec": {
   "display_name": "Python 3",
   "language": "python",
   "name": "python3"
  },
  "language_info": {
   "codemirror_mode": {
    "name": "ipython",
    "version": 3
   },
   "file_extension": ".py",
   "mimetype": "text/x-python",
   "name": "python",
   "nbconvert_exporter": "python",
   "pygments_lexer": "ipython3",
   "version": "3.7.0"
  }
 },
 "nbformat": 4,
 "nbformat_minor": 2
}
