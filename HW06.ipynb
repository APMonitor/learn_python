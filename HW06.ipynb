{
 "cells": [
  {
   "cell_type": "markdown",
   "metadata": {},
   "source": [
    "## Homework 6\n",
    "\n",
    "Error handling is a method to select a desired action or message when the program encounters an error. One method to catch errors is with a ```try``` and ```except``` block. This homework covers error handling, raising exceptions, creating custom error messages, and other ways to catch errors and display appropriate information about the error.\n",
    "\n",
    "* Error handling\n",
    "* Raise exceptions\n",
    "* Custom error messages\n",
    "\n",
    "### Problem #1\n",
    "\n",
    "Errors in syntax, such as a missing parenthesis, stop the execution of the program. Notice that the location of the error is shown. Sometimes the error message cannot identify the exact location of the error so you should look at the surrounding lines for any errors.\n",
    "\n",
    "***Action 1a:*** Fix the errors to:\n",
    "\n",
    "1. print the value 5\n",
    "2. create a numpy array of 5 zeros\n",
    "3. add 3 + 2 and assign result to x\n",
    "4. evaluate f(x)=$x^2$ with input argument x=5\n",
    "5. print a message whether x is equal to 2\n",
    "\n",
    "In each case, note the error message that is printed to help you locate the error."
   ]
  },
  {
   "cell_type": "code",
   "execution_count": 1,
   "metadata": {},
   "outputs": [
    {
     "ename": "SyntaxError",
     "evalue": "invalid syntax (<ipython-input-1-a3898d3b430c>, line 5)",
     "output_type": "error",
     "traceback": [
      "\u001b[1;36m  File \u001b[1;32m\"<ipython-input-1-a3898d3b430c>\"\u001b[1;36m, line \u001b[1;32m5\u001b[0m\n\u001b[1;33m    import numpy as np\u001b[0m\n\u001b[1;37m         ^\u001b[0m\n\u001b[1;31mSyntaxError\u001b[0m\u001b[1;31m:\u001b[0m invalid syntax\n"
     ]
    }
   ],
   "source": [
    "# 1st error\n",
    "print((5)\n",
    "\n",
    "# 2nd error\n",
    "import numpy as np\n",
    "x = np.zero(5)\n",
    "\n",
    "# 3rd error\n",
    "x = 3 + '2'\n",
    "\n",
    "# 4th error\n",
    "def f(x)\n",
    "    return x**2\n",
    "print(f(x))\n",
    "      \n",
    "# 5th error\n",
    "x=2\n",
    "if x=2:\n",
    "    print('x is equal to 2') \n",
    "else:\n",
    "    print('x is not equal to 2')"
   ]
  },
  {
   "cell_type": "markdown",
   "metadata": {},
   "source": [
    "***Action 1b:*** Other errors are run-time errors that are found only after the program begins to run. One example of this type of error is divide by zero. Fix the following error by checking that the value of ```x``` is not equal to zero before proceeding with the division.\n",
    "\n",
    "The not equal operator is either ```not x==y``` or ```x != y```."
   ]
  },
  {
   "cell_type": "code",
   "execution_count": null,
   "metadata": {},
   "outputs": [],
   "source": [
    "def div(x):\n",
    "    return 5.0/x\n",
    "div(0)"
   ]
  },
  {
   "cell_type": "markdown",
   "metadata": {},
   "source": [
    "***Action 1c:*** A ```try``` and ```except``` block can be used to catch errors.\n",
    "\n",
    "```python\n",
    "try:\n",
    "    y = 5/0\n",
    "except:\n",
    "    print('Divide by Zero, Setting y=Infinity')\n",
    "    y = np.inf\n",
    "```\n",
    "\n",
    "Change the ```div``` function to include a ```try``` / ```except``` block to return Infinity when ```x==0```."
   ]
  },
  {
   "cell_type": "code",
   "execution_count": null,
   "metadata": {},
   "outputs": [],
   "source": []
  },
  {
   "attachments": {},
   "cell_type": "markdown",
   "metadata": {},
   "source": [
    "The above error is a ***ZeroDivisionError*** with 5.0/0. There are many different types of standard exceptions that are grouped as General, Math, I/O, and Other. A more complete list of exceptions is included in the tables below with ***ZeroDivisionError*** highlighted in red.\n",
    "\n",
    "| **General Exceptions** | **Description** |\n",
    "|--- | ---|\n",
    "| StandardError | Base class for all built-in exceptions except<br>StopIteration and SystemExit. |\n",
    "| ImportError | Raised when an import statement fails. |\n",
    "| SyntaxError | Raised when there is an error in Python syntax. |\n",
    "| IndentationError | Raised when indentation is not specified properly. |\n",
    "| NameError | Raised when an identifier is not found in the local<br>or global namespace. |\n",
    "| UnboundLocalError | Raised when trying to access a local variable<br>in a function or method but no value has been assigned to it. |\n",
    "| TypeError | Raised when an operation or function is attempted that<br>is invalid for the specified data type. |\n",
    "| LookupError | Base class for all lookup errors. |\n",
    "| IndexError | Raised when an index is not found in a sequence. |\n",
    "| KeyError | Raised when the specified key is not found in the dictionary. |\n",
    "| ValueError | Raised when the built-in function for a data type has the<br>valid type of arguments, but the arguments have invalid values specified. |\n",
    "| RuntimeError | Raised when a generated error does not fall into any category. |\n",
    "| MemoryError | Raised when a operation runs out of memory. |\n",
    "| RecursionError | Raised when the maximum recursion depth has been exceeded. |\n",
    "| SystemError | Raised when the interpreter finds an internal problem, but<br>when this error is encountered the Python interpreter does not exit. |\n",
    "\n",
    "| **Math Exceptions** | **Description** |\n",
    "| --- | --- |\n",
    "| ArithmeticError | Base class for all errors that occur for numeric<br>calculation. You know a math error occurred, but you don’t<br>know the specific error. |\n",
    "| OverflowError | Raised when a calculation exceeds maximum limit for<br>a numeric type. |\n",
    "| FloatingPointError | Raised when a floating point calculation fails. |\n",
    "| <font color='red'>ZeroDivisionError</font> | Raised when division or modulo by zero takes place<br>for all numeric types. |\n",
    "\n",
    "| **I/O Exceptions** | **Description** |\n",
    "| --- | --- |\n",
    "| FileNotFoundError | Raised when a file or directory is requested but<br>doesn’t exist. |\n",
    "| IOError | Raised when an input/ output operation fails, such as the<br>print statement or the open() function when trying to open a file that<br>does not exist. Also raised for operating system-related errors. |\n",
    "| PermissionError | Raised when trying to run an operation without the<br>adequate access rights. |\n",
    "| EOFError | Raised when there is no input from either the raw_input()<br>or input() function and the end of file is reached. |\n",
    "| KeyboardInterrupt | Raised when the user interrupts program execution,<br>usually by pressing Ctrl+c. |\n",
    "\n",
    "| **Other Exceptions** | **Description** |\n",
    "| --- | --- |\n",
    "| Exception | Base class for all exceptions. This catches most exception messages. |\n",
    "| StopIteration | Raised when the next() method of an iterator does not<br>point to any object. |\n",
    "| AssertionError | Raised in case of failure of the Assert statement. |\n",
    "| SystemExit | Raised when Python interpreter is quit by using the<br>sys.exit() function. If not handled in the code, it causes the interpreter to exit. |\n",
    "| OSError | Raises for operating system related errors. |\n",
    "| EnvironmentError | Base class for all exceptions that occur outside<br>the Python environment. |\n",
    "| AttributeError | Raised in case of failure of an attribute reference or assignment. |\n",
    "| NotImplementedError | Raised when an abstract method that needs to be<br>implemented in an inherited class is not actually implemented. |\n"
   ]
  },
  {
   "cell_type": "markdown",
   "metadata": {},
   "source": [
    "A ```try``` ```except``` block can redirect the code flow based on the specific error. In the following example, a division by zero error ```ZeroDivisionError``` is encountered and a custom message is printed with a divide by zero.\n",
    "\n",
    "```python\n",
    "    5.0/0\n",
    "```\n",
    "\n",
    "However, the error changes to a ```TypeError``` when an integer and string addition is attempted.\n",
    "\n",
    "```python\n",
    "    5.0 + 'a string'\n",
    "```\n",
    "\n",
    "The ```except``` statement at the end catches all other error and prints a generic message such as when attempting to open a non-existant file.\n",
    "\n",
    "```python\n",
    "    fid = open('NonExistantFile.txt')\n",
    "```\n",
    "\n",
    "The ```finally``` clause at the end is an optional clean-up section that processes as the final step. "
   ]
  },
  {
   "cell_type": "code",
   "execution_count": null,
   "metadata": {},
   "outputs": [],
   "source": [
    "try:\n",
    "    # test 1\n",
    "    5.0/0\n",
    "    # test 2\n",
    "    # 5 + 'a string'\n",
    "    # test 3\n",
    "    #fid = open('NonExistantFile.txt')\n",
    "except ZeroDivisionError as err:\n",
    "    print('Custom Message: ', err)\n",
    "except TypeError:\n",
    "    print('Number + String error')\n",
    "except:\n",
    "    print('Another error')\n",
    "    raise\n",
    "finally:\n",
    "    print('Last step')"
   ]
  },
  {
   "cell_type": "markdown",
   "metadata": {},
   "source": [
    "You can also ```raise``` an exception at any point in the program with a custom message.\n",
    "\n",
    "```python\n",
    "raise Exception('The value of y is: {}'.format(y))\n",
    "```"
   ]
  },
  {
   "cell_type": "markdown",
   "metadata": {},
   "source": [
    "***Action 1d:*** Modify the function ```divide``` to print a warning message and return ```np.inf``` when attempting to divide by zero."
   ]
  },
  {
   "cell_type": "code",
   "execution_count": null,
   "metadata": {},
   "outputs": [],
   "source": [
    "def divide(x):\n",
    "    return 1.0/x"
   ]
  },
  {
   "cell_type": "markdown",
   "metadata": {},
   "source": [
    "***Action 1e:*** Further modify the ```divide``` function to catch errors for an invalid input such as a string."
   ]
  },
  {
   "cell_type": "code",
   "execution_count": null,
   "metadata": {},
   "outputs": [],
   "source": [
    "divide('a string')"
   ]
  },
  {
   "cell_type": "markdown",
   "metadata": {},
   "source": [
    "***Action 1f:*** The ```assert``` statement checks for conditions and halts the program execution if the condition is ```False```. One example is to check whether the local computer is of a particular operating system. Replace ```cygwin``` with the name of your operating system to avoid an error. Use ```linux``` for Linux, ```win32``` for Windows, and ```darwin``` for MacOS X. If yours is not one of these then list yours with ```print(sys.platform)```."
   ]
  },
  {
   "cell_type": "code",
   "execution_count": null,
   "metadata": {},
   "outputs": [],
   "source": [
    "import sys\n",
    "assert ('os2' in sys.platform), \"This code runs on OS2 only.\""
   ]
  },
  {
   "cell_type": "markdown",
   "metadata": {},
   "source": [
    "### Problem #2\n",
    "\n",
    "***Tank Overflow Check:*** Suppose that there is a cylindrical tank with radius $r (m)$ and height $h (m)$.  If the tank is being filled with crude oil at flow rate $F$ $\\left(m^3/min\\right)$ for a period of time $t$ (min), we want to know if it will overfill.\n",
    "\n",
    "***Action 2a:*** Create a function to calculate the volume of crude oil from a flow and time as input arguments."
   ]
  },
  {
   "cell_type": "code",
   "execution_count": null,
   "metadata": {},
   "outputs": [],
   "source": []
  },
  {
   "cell_type": "markdown",
   "metadata": {},
   "source": [
    "***Action 2b:*** Create another function that calculates the volume of a cylindrical tank from the height and radius of the tank."
   ]
  },
  {
   "cell_type": "code",
   "execution_count": null,
   "metadata": {},
   "outputs": [],
   "source": []
  },
  {
   "cell_type": "markdown",
   "metadata": {},
   "source": [
    "***Action 2c:*** Use the two functions to compare the volume of the crude oil to the volume of the tank. If the volume of crude oil is greater than the tank, raise an exception with the message \"Tank Overfilled\" with the volume that is spilled. Otherwise, print a message \"Tank not overfilled\" with the remaining storage capacity."
   ]
  },
  {
   "cell_type": "code",
   "execution_count": null,
   "metadata": {},
   "outputs": [],
   "source": []
  },
  {
   "cell_type": "markdown",
   "metadata": {},
   "source": [
    "***Action 2d:*** Test the program with the following values:\n",
    "\n",
    "```python\n",
    "r = 5     # m\n",
    "h = 10    # m\n",
    "F = 15    # m^3/min\n",
    "t = 180   # min\n",
    "```"
   ]
  },
  {
   "cell_type": "code",
   "execution_count": null,
   "metadata": {},
   "outputs": [],
   "source": []
  },
  {
   "cell_type": "markdown",
   "metadata": {},
   "source": [
    "***Action 2e:*** Test the program again but with the following values:\n",
    "\n",
    "```python\n",
    "r = 10     # m\n",
    "h = 10    # m\n",
    "F = 15    # m^3/min\n",
    "t = 180   # min\n",
    "```"
   ]
  },
  {
   "cell_type": "code",
   "execution_count": null,
   "metadata": {},
   "outputs": [],
   "source": []
  }
 ],
 "metadata": {
  "kernelspec": {
   "display_name": "Python 3",
   "language": "python",
   "name": "python3"
  },
  "language_info": {
   "codemirror_mode": {
    "name": "ipython",
    "version": 3
   },
   "file_extension": ".py",
   "mimetype": "text/x-python",
   "name": "python",
   "nbconvert_exporter": "python",
   "pygments_lexer": "ipython3",
   "version": "3.7.0"
  }
 },
 "nbformat": 4,
 "nbformat_minor": 2
}
