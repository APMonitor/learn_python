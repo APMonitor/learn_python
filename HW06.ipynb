{
 "cells": [
  {
   "cell_type": "markdown",
   "metadata": {},
   "source": [
    "## Homework 6 (Excel)\n",
    "\n",
    "* Comparison to VBA Excel programmming"
   ]
  },
  {
   "cell_type": "markdown",
   "metadata": {},
   "source": [
    "#### Problem #1\n",
    "Solution in Python for comparison to Excel solution."
   ]
  },
  {
   "cell_type": "code",
   "execution_count": 1,
   "metadata": {},
   "outputs": [
    {
     "name": "stdout",
     "output_type": "stream",
     "text": [
      "Tank Overfilled by 1914.6018366025517 m^3\n"
     ]
    }
   ],
   "source": [
    "import numpy as np\n",
    "\n",
    "r = 5     # m\n",
    "h = 10    # m\n",
    "F = 15    # m^3/min\n",
    "t = 180   # min\n",
    "\n",
    "V_tank = np.pi * r**2 * h  # m^3\n",
    "V_crude_oil = F * t # m^3\n",
    "\n",
    "if V_crude_oil > V_tank:\n",
    "    print('Tank Overfilled by ' \\\n",
    "          + str(V_crude_oil-V_tank) + ' m^3')\n",
    "else:\n",
    "    print('Not Overfilled') "
   ]
  }
 ],
 "metadata": {
  "kernelspec": {
   "display_name": "Python 3",
   "language": "python",
   "name": "python3"
  },
  "language_info": {
   "codemirror_mode": {
    "name": "ipython",
    "version": 3
   },
   "file_extension": ".py",
   "mimetype": "text/x-python",
   "name": "python",
   "nbconvert_exporter": "python",
   "pygments_lexer": "ipython3",
   "version": "3.7.0"
  }
 },
 "nbformat": 4,
 "nbformat_minor": 2
}
