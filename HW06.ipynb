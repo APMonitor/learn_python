{
 "cells": [
  {
   "cell_type": "markdown",
   "metadata": {},
   "source": [
    "## Homework 6\n",
    "\n",
    "Error handling is a method to select a desired action or message when the program encounters an error. One method to catch errors is with a ```try``` and ```except``` block. This problem has error handling and uses conditional statements.\n",
    "\n",
    "* Error handling\n",
    "* Raise exceptions\n",
    "* Custom error messages\n",
    "* Conditional statements\n",
    "\n",
    "### Problem #1\n",
    "\n",
    "***Action 1a:*** Errors in syntax stop the execution of the program, such as a missing parenthesis. Notice that the location of the error is shown. Sometimes the error message cannot identify the exact location of the error so you should look at the surrounding lines for any errors. Fix the following error to print a value of 5."
   ]
  },
  {
   "cell_type": "code",
   "execution_count": 1,
   "metadata": {},
   "outputs": [
    {
     "ename": "SyntaxError",
     "evalue": "unexpected EOF while parsing (<ipython-input-1-d0634b12e894>, line 1)",
     "output_type": "error",
     "traceback": [
      "\u001b[1;36m  File \u001b[1;32m\"<ipython-input-1-d0634b12e894>\"\u001b[1;36m, line \u001b[1;32m1\u001b[0m\n\u001b[1;33m    print((5)\u001b[0m\n\u001b[1;37m             ^\u001b[0m\n\u001b[1;31mSyntaxError\u001b[0m\u001b[1;31m:\u001b[0m unexpected EOF while parsing\n"
     ]
    }
   ],
   "source": [
    "print((5)"
   ]
  },
  {
   "cell_type": "markdown",
   "metadata": {},
   "source": [
    "***Action 1b:*** Other errors are run-time errors that are found only after the program begins to run. One example of this type of error is divide by zero. Fix the following error by checking that the value of ```x``` is not equal to zero before proceeding with the division.\n",
    "\n",
    "The not equal operator is either ```not x==y``` or ```x != y```."
   ]
  },
  {
   "cell_type": "code",
   "execution_count": 2,
   "metadata": {},
   "outputs": [
    {
     "ename": "ZeroDivisionError",
     "evalue": "float division by zero",
     "output_type": "error",
     "traceback": [
      "\u001b[1;31m---------------------------------------------------------------------------\u001b[0m",
      "\u001b[1;31mZeroDivisionError\u001b[0m                         Traceback (most recent call last)",
      "\u001b[1;32m<ipython-input-2-52355856f7d5>\u001b[0m in \u001b[0;36m<module>\u001b[1;34m()\u001b[0m\n\u001b[0;32m      1\u001b[0m \u001b[1;32mdef\u001b[0m \u001b[0mdiv\u001b[0m\u001b[1;33m(\u001b[0m\u001b[0mx\u001b[0m\u001b[1;33m)\u001b[0m\u001b[1;33m:\u001b[0m\u001b[1;33m\u001b[0m\u001b[0m\n\u001b[0;32m      2\u001b[0m     \u001b[1;32mreturn\u001b[0m \u001b[1;36m5.0\u001b[0m\u001b[1;33m/\u001b[0m\u001b[0mx\u001b[0m\u001b[1;33m\u001b[0m\u001b[0m\n\u001b[1;32m----> 3\u001b[1;33m \u001b[0mprint\u001b[0m\u001b[1;33m(\u001b[0m\u001b[0mdiv\u001b[0m\u001b[1;33m(\u001b[0m\u001b[1;36m0\u001b[0m\u001b[1;33m)\u001b[0m\u001b[1;33m)\u001b[0m\u001b[1;33m\u001b[0m\u001b[0m\n\u001b[0m",
      "\u001b[1;32m<ipython-input-2-52355856f7d5>\u001b[0m in \u001b[0;36mdiv\u001b[1;34m(x)\u001b[0m\n\u001b[0;32m      1\u001b[0m \u001b[1;32mdef\u001b[0m \u001b[0mdiv\u001b[0m\u001b[1;33m(\u001b[0m\u001b[0mx\u001b[0m\u001b[1;33m)\u001b[0m\u001b[1;33m:\u001b[0m\u001b[1;33m\u001b[0m\u001b[0m\n\u001b[1;32m----> 2\u001b[1;33m     \u001b[1;32mreturn\u001b[0m \u001b[1;36m5.0\u001b[0m\u001b[1;33m/\u001b[0m\u001b[0mx\u001b[0m\u001b[1;33m\u001b[0m\u001b[0m\n\u001b[0m\u001b[0;32m      3\u001b[0m \u001b[0mprint\u001b[0m\u001b[1;33m(\u001b[0m\u001b[0mdiv\u001b[0m\u001b[1;33m(\u001b[0m\u001b[1;36m0\u001b[0m\u001b[1;33m)\u001b[0m\u001b[1;33m)\u001b[0m\u001b[1;33m\u001b[0m\u001b[0m\n",
      "\u001b[1;31mZeroDivisionError\u001b[0m: float division by zero"
     ]
    }
   ],
   "source": [
    "def div(x):\n",
    "    return 5.0/x\n",
    "print(div(0))"
   ]
  },
  {
   "cell_type": "markdown",
   "metadata": {},
   "source": [
    "***Action 1c:*** A ```try``` and ```except``` block can be used to catch errors.\n",
    "\n",
    "```python\n",
    "try:\n",
    "    y = 5/0\n",
    "except:\n",
    "    print('Divide by Zero, Setting y=Infinity')\n",
    "    y = np.inf\n",
    "```\n",
    "\n",
    "Change the ```div``` function to include a ```try``` / ```except``` block to return Infinity when ```x==0```."
   ]
  },
  {
   "cell_type": "code",
   "execution_count": null,
   "metadata": {},
   "outputs": [],
   "source": []
  },
  {
   "cell_type": "markdown",
   "metadata": {},
   "source": [
    "***Action 1d:*** You can also ```raise``` an exception at any point in the program with a custom message.\n",
    "\n",
    "```python\n",
    "raise Exception('The value of y is: {}'.format(y))\n",
    "```\n",
    "\n",
    "Modify the program to raise an Exception when the result is ```y==np.inf```."
   ]
  },
  {
   "cell_type": "code",
   "execution_count": null,
   "metadata": {},
   "outputs": [],
   "source": []
  },
  {
   "cell_type": "markdown",
   "metadata": {},
   "source": [
    "***Action 1e:*** The ```assert``` statement checks for conditions and halts the program execution if the condition is ```False```. One example is to check whether the local computer is of a particular operating system. Replace ```cygwin``` with the name of your operating system to avoid an error. Use ```linux``` for Linux, ```win32``` for Windows, and ```darwin``` for MacOS X. If yours is not one of these then list yours with ```print(sys.platform)```."
   ]
  },
  {
   "cell_type": "code",
   "execution_count": null,
   "metadata": {},
   "outputs": [],
   "source": [
    "import sys\n",
    "assert ('os2' in sys.platform), \"This code runs on OS2 only.\""
   ]
  },
  {
   "cell_type": "markdown",
   "metadata": {},
   "source": [
    "### Problem #2\n",
    "\n",
    "***Tank Overflow Check:*** Suppose that there is a cylindrical tank with radius $r (m)$ and height $h (m)$.  If the tank is being filled with crude oil at flow rate $F$ ($m^3/min$) for a period of time $t$ (min), we want to know if it will overfill.\n",
    "\n",
    "***Action 2a:*** Create a function to calculate the volume of crude oil from a flow and time as input arguments."
   ]
  },
  {
   "cell_type": "code",
   "execution_count": null,
   "metadata": {},
   "outputs": [],
   "source": []
  },
  {
   "cell_type": "markdown",
   "metadata": {},
   "source": [
    "***Action 2b:*** Create another function that calculates the volume of a cylindrical tank from the height and radius of the tank."
   ]
  },
  {
   "cell_type": "code",
   "execution_count": null,
   "metadata": {},
   "outputs": [],
   "source": []
  },
  {
   "cell_type": "markdown",
   "metadata": {},
   "source": [
    "***Action 2c:*** Use the two functions to compare the volume of the crude oil to the volume of the tank. If the volume of crude oil is greater than the tank, raise an exception with the message \"Tank Overfilled\" with the volume that is spilled. Otherwise, print a message \"Tank not overfilled\" with the remaining storage capacity."
   ]
  },
  {
   "cell_type": "code",
   "execution_count": null,
   "metadata": {},
   "outputs": [],
   "source": []
  },
  {
   "cell_type": "markdown",
   "metadata": {},
   "source": [
    "***Action 2d:*** Test the program with the following values:\n",
    "\n",
    "```python\n",
    "r = 5     # m\n",
    "h = 10    # m\n",
    "F = 15    # m^3/min\n",
    "t = 180   # min\n",
    "```"
   ]
  },
  {
   "cell_type": "code",
   "execution_count": null,
   "metadata": {},
   "outputs": [],
   "source": []
  },
  {
   "cell_type": "markdown",
   "metadata": {},
   "source": [
    "***Action 2e:*** Test the program again but with the following values:\n",
    "\n",
    "```python\n",
    "r = 10     # m\n",
    "h = 10    # m\n",
    "F = 15    # m^3/min\n",
    "t = 180   # min\n",
    "```"
   ]
  },
  {
   "cell_type": "code",
   "execution_count": null,
   "metadata": {},
   "outputs": [],
   "source": []
  }
 ],
 "metadata": {
  "kernelspec": {
   "display_name": "Python 3",
   "language": "python",
   "name": "python3"
  },
  "language_info": {
   "codemirror_mode": {
    "name": "ipython",
    "version": 3
   },
   "file_extension": ".py",
   "mimetype": "text/x-python",
   "name": "python",
   "nbconvert_exporter": "python",
   "pygments_lexer": "ipython3",
   "version": "3.7.0"
  }
 },
 "nbformat": 4,
 "nbformat_minor": 2
}
