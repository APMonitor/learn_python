{
 "cells": [
  {
   "cell_type": "markdown",
   "metadata": {},
   "source": [
    "# HW7: Conditionals and Functions"
   ]
  },
  {
   "cell_type": "markdown",
   "metadata": {
    "collapsed": true
   },
   "source": [
    "### Problem 1\n",
    "**(a)** x is given below. Write an if statement that will print whether x is positive, negative, or zero.\n",
    "   \n",
    "x=-10"
   ]
  },
  {
   "cell_type": "code",
   "execution_count": null,
   "metadata": {},
   "outputs": [],
   "source": []
  },
  {
   "cell_type": "markdown",
   "metadata": {},
   "source": [
    "**(b)** x and y are given below. Write an if statement that will print whether x and y are both positive, or both negative, or if one or both are zero.\n",
    "\n",
    "x=-4 y=3.2"
   ]
  },
  {
   "cell_type": "code",
   "execution_count": null,
   "metadata": {},
   "outputs": [],
   "source": []
  },
  {
   "cell_type": "markdown",
   "metadata": {},
   "source": [
    "**(c)** Write a single line (condensed) if statement that will evaluate y = 1/x if x is not zero. If x is 0, then y=0. Print y."
   ]
  },
  {
   "cell_type": "code",
   "execution_count": null,
   "metadata": {},
   "outputs": [],
   "source": []
  },
  {
   "cell_type": "markdown",
   "metadata": {},
   "source": [
    "**(d)** The ideal gas law is an approximation, but it is only a good approximation under certain circumstances. The general rule of thumb is: when the specifc volume is greater than 5 L/mol for diatomic gases and 20 L/mol for all other gases. (Specific volume: $\\hat{V} = \\frac{V}{n}$ )\n",
    "$$\\hat{V}=\\frac{RT}{P} > 5 L/mol $$\n",
    "$$ .......                >20 L/mol$$\n",
    "Write an if statement that will print the specifc volume of O2, and state whether or not the ideal gas law is a good approximation.\n",
    "\n",
    "T = 600 K\n",
    "\n",
    "P = 15 atm\n",
    "\n",
    "R = .08206 L*Atm/(mol K)"
   ]
  },
  {
   "cell_type": "code",
   "execution_count": null,
   "metadata": {},
   "outputs": [],
   "source": []
  },
  {
   "cell_type": "markdown",
   "metadata": {},
   "source": [
    "### Problem 2\n",
    "**(a)** Write a function called \"sum\" that takes two numbers and returns the sum of them.\n",
    "\n",
    "**(b)** Write a function called \"quad\" that takes three numbers $a$, $b$, and $c$ as function arguments that are the coefficients of the quadratic formula $ax^2+bx+c=0$, and returns the two roots. Test your function on $a=1,\\,b=-1,\\, c=-2$. You should get roots of 2 and -1.\n",
    "\n",
    "**(c)** Functions are a convenient way to convert units. Write a function that converts \n",
    "\n",
    "1. Celsius for Farhenheit\n",
    "2. Farheneit to Celsius\n",
    "3. Liters to Gallons\n",
    "4. kg/h to lbm/s\n",
    "5. Joules per hour to hp\n",
    " "
   ]
  },
  {
   "cell_type": "code",
   "execution_count": null,
   "metadata": {},
   "outputs": [],
   "source": []
  },
  {
   "cell_type": "markdown",
   "metadata": {},
   "source": [
    "### Problem 3\n",
    "You are trying to decide which car to buy between a hybrid and non-hybrid. Hybrid cars often have a higher initial cost, but have lower fuel costs. \n",
    "\n",
    "Hybrid Car - \\$25,000 and gets 33 MPG\n",
    "\n",
    "Non-Hybrid Car - \\$15,000 and gets 19 MPG\n",
    "\n",
    "You plan on keeping the car for five years, and after 5 years cars depreciate by 75%. You drive about 200 miles per week. Create a program that will print which car is the smarter economical decision, and the total cost (fuel cost + depreciation of car value). Also print how much money you would be saving for this car compared to the other car.  Assume the cost of gas is \\$2.20/gallon."
   ]
  },
  {
   "cell_type": "code",
   "execution_count": null,
   "metadata": {},
   "outputs": [],
   "source": []
  }
 ],
 "metadata": {
  "kernelspec": {
   "display_name": "Python 3",
   "language": "python",
   "name": "python3"
  },
  "language_info": {
   "codemirror_mode": {
    "name": "ipython",
    "version": 3
   },
   "file_extension": ".py",
   "mimetype": "text/x-python",
   "name": "python",
   "nbconvert_exporter": "python",
   "pygments_lexer": "ipython3",
   "version": "3.7.0"
  }
 },
 "nbformat": 4,
 "nbformat_minor": 1
}
