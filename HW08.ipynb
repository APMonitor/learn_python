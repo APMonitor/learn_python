{
 "cells": [
  {
   "cell_type": "markdown",
   "metadata": {},
   "source": [
    "# HW8: Arrays and Loops"
   ]
  },
  {
   "cell_type": "markdown",
   "metadata": {},
   "source": [
    "## Problem 1"
   ]
  },
  {
   "cell_type": "markdown",
   "metadata": {},
   "source": [
    "Import Numpy \n",
    "\n",
    "a) Create an array of 50 ones called $x$."
   ]
  },
  {
   "cell_type": "code",
   "execution_count": null,
   "metadata": {},
   "outputs": [],
   "source": []
  },
  {
   "cell_type": "markdown",
   "metadata": {},
   "source": [
    "b) Create an array from 1-20 with 50 equally-spaced elements two different ways (using a loop and a single command). Call the two arrays $y$ and $z$."
   ]
  },
  {
   "cell_type": "code",
   "execution_count": null,
   "metadata": {},
   "outputs": [],
   "source": []
  },
  {
   "cell_type": "markdown",
   "metadata": {},
   "source": [
    "c) Subtract $y$ from $z$ and report the sum of the absolute difference of each element to show that they are the same."
   ]
  },
  {
   "cell_type": "code",
   "execution_count": null,
   "metadata": {},
   "outputs": [],
   "source": []
  },
  {
   "cell_type": "markdown",
   "metadata": {},
   "source": [
    "## Problem 2"
   ]
  },
  {
   "cell_type": "markdown",
   "metadata": {},
   "source": [
    "import the python package \"random\"\n",
    "\n",
    "a) Create a matrix, $M$, as a 1x1 numpy array of value 1"
   ]
  },
  {
   "cell_type": "code",
   "execution_count": null,
   "metadata": {},
   "outputs": [],
   "source": []
  },
  {
   "cell_type": "markdown",
   "metadata": {},
   "source": [
    "b) Using a while loop, append a random integer between 1 and 10 to the end of matrix $M$ until the last element is a 7."
   ]
  },
  {
   "cell_type": "code",
   "execution_count": null,
   "metadata": {},
   "outputs": [],
   "source": []
  },
  {
   "cell_type": "markdown",
   "metadata": {},
   "source": [
    "c) Report the number of elements in $M$ and the mean value of the elements after the loop."
   ]
  },
  {
   "cell_type": "code",
   "execution_count": null,
   "metadata": {},
   "outputs": [],
   "source": []
  },
  {
   "cell_type": "markdown",
   "metadata": {},
   "source": [
    "d) Also, because a while loop is easily susceptible to infinite loops, create a variable $i$ to keep track of how many times you have gone through the while loop. If $i$ exceeds 30, immediately exit the while loop. Don't report the matrix size using $i$.\n",
    "\n",
    "You may need to search online (e.g. Google) how to create a random integer using the random package and how to append elements to a numpy array. "
   ]
  },
  {
   "cell_type": "code",
   "execution_count": null,
   "metadata": {},
   "outputs": [],
   "source": []
  },
  {
   "cell_type": "markdown",
   "metadata": {},
   "source": [
    "## Problem 3"
   ]
  },
  {
   "cell_type": "markdown",
   "metadata": {},
   "source": [
    "Using the following array, $a$:\n",
    "\n",
    "Reshape the array to a 5x5 matrix (using a numpy command)\n",
    "\n",
    "Loop through each element of the array. If the element value is 5 or 8, print the element index. Also, keep track of how many 5s and 8s there are with variable $k$. Print $k$. If the element value is a 1, print \"You win!\""
   ]
  },
  {
   "cell_type": "code",
   "execution_count": 2,
   "metadata": {},
   "outputs": [],
   "source": [
    "a = np.array([  8.,3.,10.,8.,2.,2.,10.,10.,5.,10.,2.,10.,9.,10.,9.,4.,2.,8.,7.,4.,1.,4.,5.,6.,6.])"
   ]
  },
  {
   "cell_type": "markdown",
   "metadata": {},
   "source": [
    "## Problem 4"
   ]
  },
  {
   "cell_type": "markdown",
   "metadata": {},
   "source": [
    "For the following arrays (matrices and vectors):\n",
    "\n",
    "$A = \\begin{bmatrix}\n",
    "1 & 2 & 3\\\\ \n",
    "4 & 5 & 6\\\\ \n",
    "7 & 8 & 9\n",
    "\\end{bmatrix}$\n",
    "\n",
    "$x = \\begin{bmatrix}\n",
    "1\\\\ \n",
    "3\\\\ \n",
    "4\n",
    "\\end{bmatrix}$\n",
    "\n",
    "$B = \\begin{bmatrix}\n",
    "-0.1 & -0.2 & -0.3\\\\ \n",
    "3 & 10 & 2\\\\ \n",
    "4 & 2 & 0.5\n",
    "\\end{bmatrix} $\n",
    "\n",
    "Perform the following operations:\n",
    "\n",
    "a) $A \\circ B$ (element-wise multiplication)"
   ]
  },
  {
   "cell_type": "code",
   "execution_count": null,
   "metadata": {},
   "outputs": [],
   "source": []
  },
  {
   "cell_type": "markdown",
   "metadata": {},
   "source": [
    "b) $A \\bullet B$ (dot product multiplication)"
   ]
  },
  {
   "cell_type": "code",
   "execution_count": null,
   "metadata": {},
   "outputs": [],
   "source": []
  },
  {
   "cell_type": "markdown",
   "metadata": {},
   "source": [
    "c) $A \\times B$ (cross product multiplication)"
   ]
  },
  {
   "cell_type": "code",
   "execution_count": null,
   "metadata": {},
   "outputs": [],
   "source": []
  },
  {
   "cell_type": "markdown",
   "metadata": {},
   "source": [
    "d) $A \\bullet x$"
   ]
  },
  {
   "cell_type": "code",
   "execution_count": null,
   "metadata": {
    "collapsed": true
   },
   "outputs": [],
   "source": []
  },
  {
   "cell_type": "markdown",
   "metadata": {},
   "source": [
    "e) $A^{-1} \\bullet B$"
   ]
  },
  {
   "cell_type": "code",
   "execution_count": null,
   "metadata": {},
   "outputs": [],
   "source": []
  }
 ],
 "metadata": {
  "kernelspec": {
   "display_name": "Python 3",
   "language": "python",
   "name": "python3"
  },
  "language_info": {
   "codemirror_mode": {
    "name": "ipython",
    "version": 3
   },
   "file_extension": ".py",
   "mimetype": "text/x-python",
   "name": "python",
   "nbconvert_exporter": "python",
   "pygments_lexer": "ipython3",
   "version": "3.7.0"
  }
 },
 "nbformat": 4,
 "nbformat_minor": 1
}
