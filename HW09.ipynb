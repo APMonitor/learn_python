{
 "cells": [
  {
   "cell_type": "markdown",
   "metadata": {},
   "source": [
    "# Homework Plotting"
   ]
  },
  {
   "cell_type": "markdown",
   "metadata": {},
   "source": [
    "## Problem 1\n",
    "Creat a plot of $\\ e^{-x}sin(4x)$ and $\\ e^{-x}cos(4x)$ from 0 to 5. \n",
    "\n",
    "Change the line color for $\\ e^{-x}sin(4x)$ to red, and $\\ e^{-x}cos(4x)$ to blue. Adjust the line width to 2.0. Add legend, xlabel, ylabel, and plot title. "
   ]
  },
  {
   "cell_type": "code",
   "execution_count": null,
   "metadata": {},
   "outputs": [],
   "source": [
    "\n"
   ]
  },
  {
   "cell_type": "markdown",
   "metadata": {},
   "source": [
    "## Problem 2\n",
    "\n",
    "Create 4 subplots of $y_1=x$, $y_2=x^2$, $y_3=x^3$, and $y_4=x^{0.5}$. Use 10 points between $x=0$ to $x=10$. For $y_1 = x$ use red circles, $y_2 = x^2$ use green dashes, $y_3 = x^3$ use blue triangles, and $y_4 = x^{0.5}$ use black squares. Also give each subplot a title. Include a command to save the figure as a PNG file so that it can be imported into another program such as Microsoft Powerpoint."
   ]
  },
  {
   "cell_type": "code",
   "execution_count": null,
   "metadata": {
    "scrolled": true
   },
   "outputs": [],
   "source": []
  },
  {
   "cell_type": "markdown",
   "metadata": {},
   "source": [
    "## Problem 3 \n",
    "Plot x and y, and x and z. Make the x,y points red circles and the x,z points blue squares. Change the x axis limits to 0 to 120, change the y axis limits to -300 to 300, and change the marker size of the x,y points to 10."
   ]
  },
  {
   "cell_type": "code",
   "execution_count": 2,
   "metadata": {},
   "outputs": [],
   "source": [
    "import numpy as np\n",
    "import random\n",
    "x=np.arange(0,100)\n",
    "y=np.zeros(len(x))\n",
    "z=np.zeros(len(x))\n",
    "\n",
    "for i in range(len(x)):\n",
    "    y[i] = 2.0*x[i] + 50*random.random()\n",
    "    z[i] = 250*random.random() - 2.0*x[i]\n",
    "\n"
   ]
  },
  {
   "cell_type": "markdown",
   "metadata": {},
   "source": [
    "## Problem 4\n",
    "\n",
    "The following Gross Domestic Product (GDP) data is reported for the top 8 countries by economy size for 2013-2015 in billions of dollars.\n",
    "\n",
    "* **Country, 2014, 2015**\n",
    "* United States, 17,348.1, 17,947.0 \n",
    "* China, 10,430.7, 10,982.8 \n",
    "* Japan, 4,596.2, 4,123.3 \n",
    "* Germany, 3,874.4, 3,357.6 \n",
    "* United Kingdom, 2,991.7, 2,849.3 \n",
    "* France, 2,833.7, 2,421.6 \n",
    "* India, 2,042.6, 2,090.7 \n",
    "* Italy, 2,141.9, 1,815.8 \n",
    "\n",
    "a) Create a bar chart to display the percentage change in economic output for 2015 from the prior year."
   ]
  },
  {
   "cell_type": "code",
   "execution_count": 3,
   "metadata": {},
   "outputs": [],
   "source": [
    "import numpy as np\n",
    "years = np.array([2014,2015])\n",
    "data = np.array([[17348.1, 17947.0],[10430.7, 10982.8],\\\n",
    "                 [4596.2, 4123.3],[3874.4, 3357.6],\\\n",
    "                 [2991.7, 2849.3],[2833.7, 2421.6],\\\n",
    "                 [2042.6, 2090.7],[2141.9, 1815.8]])\n",
    "countries = ['US','China','Japan','Germany','UK','France','India','Italy']"
   ]
  },
  {
   "cell_type": "markdown",
   "metadata": {},
   "source": [
    "b) Create a pie chart to display the 2014 data for the top 8 world economies. With a Gross World Product (GWP) of about $77,960 billion, display a 9th category that includes the combined GDP for all other countries."
   ]
  },
  {
   "cell_type": "code",
   "execution_count": null,
   "metadata": {
    "collapsed": true
   },
   "outputs": [],
   "source": []
  }
 ],
 "metadata": {
  "kernelspec": {
   "display_name": "Python 3",
   "language": "python",
   "name": "python3"
  },
  "language_info": {
   "codemirror_mode": {
    "name": "ipython",
    "version": 3
   },
   "file_extension": ".py",
   "mimetype": "text/x-python",
   "name": "python",
   "nbconvert_exporter": "python",
   "pygments_lexer": "ipython3",
   "version": "3.7.0"
  }
 },
 "nbformat": 4,
 "nbformat_minor": 1
}
