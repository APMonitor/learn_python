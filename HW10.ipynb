{
 "cells": [
  {
   "cell_type": "markdown",
   "metadata": {},
   "source": [
    "## HW10 - Loops, Plots, Stats, and Data Analysis\n",
    "\n",
    "### Problem 1: Temperature Control Lab"
   ]
  },
  {
   "cell_type": "markdown",
   "metadata": {},
   "source": [
    "Write a program that retrieves a temperature measurement from the Temperature Control Lab (see https://apmonitor.com/heat.htm) and displays the value on a plot.\n",
    "\n",
    "Instructions for setting up and connecting to the TCLab:\n",
    "\n",
    "1. Install tclab as a Python module:\n",
    "\n",
    "**Option A (best)**: pip package manager (command prompt in Windows with cmd or a new Terminal in MacOS):\n",
    "\n",
    "```pip install tclab```\n",
    "\n",
    "**Option B**: pip install from the Anaconda notebook:\n",
    "\n",
    "```!pip install tclab```\n",
    "\n",
    "**Option C**: pip install with Python package ```pip``` to install tclab directly from Python code. Options C is shown below."
   ]
  },
  {
   "cell_type": "code",
   "execution_count": 2,
   "metadata": {},
   "outputs": [
    {
     "name": "stdout",
     "output_type": "stream",
     "text": [
      "Requirement already satisfied: tclab in c:\\users\\johnh\\anaconda3\\lib\\site-packages (0.4.8)\n",
      "Requirement already satisfied: pyserial in c:\\users\\johnh\\anaconda3\\lib\\site-packages (from tclab) (3.4)\n"
     ]
    },
    {
     "name": "stderr",
     "output_type": "stream",
     "text": [
      "twisted 18.7.0 requires PyHamcrest>=1.9.0, which is not installed.\n",
      "You are using pip version 10.0.1, however version 19.0.3 is available.\n",
      "You should consider upgrading via the 'python -m pip install --upgrade pip' command.\n"
     ]
    },
    {
     "data": {
      "text/plain": [
       "0"
      ]
     },
     "execution_count": 2,
     "metadata": {},
     "output_type": "execute_result"
    }
   ],
   "source": [
    "module='tclab'\n",
    "try:\n",
    "    from pip import main as pipmain\n",
    "except:\n",
    "    from pip._internal import main as pipmain\n",
    "pipmain(['install',module])"
   ]
  },
  {
   "cell_type": "markdown",
   "metadata": {},
   "source": [
    "2. Plug in device to a USB port. The heater power supply is not needed for this exercise.\n",
    "\n",
    "<img src=\"https://apmonitor.com/pdc/uploads/Main/tclab_usb.jpg\">\n",
    "\n",
    "3. Run the following test script to ensure that the device is connected. The LED red light should turn on and then off after 1 second."
   ]
  },
  {
   "cell_type": "code",
   "execution_count": 1,
   "metadata": {},
   "outputs": [
    {
     "name": "stdout",
     "output_type": "stream",
     "text": [
      "TCLab version 0.4.8\n",
      "--- Serial Ports ---\n"
     ]
    },
    {
     "ename": "RuntimeError",
     "evalue": "No Arduino device found.",
     "output_type": "error",
     "traceback": [
      "\u001b[1;31m---------------------------------------------------------------------------\u001b[0m",
      "\u001b[1;31mRuntimeError\u001b[0m                              Traceback (most recent call last)",
      "\u001b[1;32m<ipython-input-1-1d5f0e4d2b7d>\u001b[0m in \u001b[0;36m<module>\u001b[1;34m()\u001b[0m\n\u001b[0;32m      4\u001b[0m \u001b[1;32mimport\u001b[0m \u001b[0mtime\u001b[0m\u001b[1;33m\u001b[0m\u001b[0m\n\u001b[0;32m      5\u001b[0m \u001b[1;31m# Connect to Arduino\u001b[0m\u001b[1;33m\u001b[0m\u001b[1;33m\u001b[0m\u001b[0m\n\u001b[1;32m----> 6\u001b[1;33m \u001b[0ma\u001b[0m \u001b[1;33m=\u001b[0m \u001b[0mtclab\u001b[0m\u001b[1;33m.\u001b[0m\u001b[0mTCLab\u001b[0m\u001b[1;33m(\u001b[0m\u001b[1;33m)\u001b[0m\u001b[1;33m\u001b[0m\u001b[0m\n\u001b[0m\u001b[0;32m      7\u001b[0m \u001b[0mprint\u001b[0m\u001b[1;33m(\u001b[0m\u001b[1;34m'LED On'\u001b[0m\u001b[1;33m)\u001b[0m\u001b[1;33m\u001b[0m\u001b[0m\n\u001b[0;32m      8\u001b[0m \u001b[0ma\u001b[0m\u001b[1;33m.\u001b[0m\u001b[0mLED\u001b[0m\u001b[1;33m(\u001b[0m\u001b[1;36m100\u001b[0m\u001b[1;33m)\u001b[0m\u001b[1;33m\u001b[0m\u001b[0m\n",
      "\u001b[1;32m~\\Anaconda3\\lib\\site-packages\\tclab\\tclab.py\u001b[0m in \u001b[0;36m__init__\u001b[1;34m(self, port, debug)\u001b[0m\n\u001b[0;32m     58\u001b[0m         \u001b[0mself\u001b[0m\u001b[1;33m.\u001b[0m\u001b[0mport\u001b[0m\u001b[1;33m,\u001b[0m \u001b[0mself\u001b[0m\u001b[1;33m.\u001b[0m\u001b[0marduino\u001b[0m \u001b[1;33m=\u001b[0m \u001b[0mfind_arduino\u001b[0m\u001b[1;33m(\u001b[0m\u001b[0mport\u001b[0m\u001b[1;33m)\u001b[0m\u001b[1;33m\u001b[0m\u001b[0m\n\u001b[0;32m     59\u001b[0m         \u001b[1;32mif\u001b[0m \u001b[0mself\u001b[0m\u001b[1;33m.\u001b[0m\u001b[0mport\u001b[0m \u001b[1;32mis\u001b[0m \u001b[1;32mNone\u001b[0m\u001b[1;33m:\u001b[0m\u001b[1;33m\u001b[0m\u001b[0m\n\u001b[1;32m---> 60\u001b[1;33m             \u001b[1;32mraise\u001b[0m \u001b[0mRuntimeError\u001b[0m\u001b[1;33m(\u001b[0m\u001b[1;34m'No Arduino device found.'\u001b[0m\u001b[1;33m)\u001b[0m\u001b[1;33m\u001b[0m\u001b[0m\n\u001b[0m\u001b[0;32m     61\u001b[0m \u001b[1;33m\u001b[0m\u001b[0m\n\u001b[0;32m     62\u001b[0m         \u001b[1;32mtry\u001b[0m\u001b[1;33m:\u001b[0m\u001b[1;33m\u001b[0m\u001b[0m\n",
      "\u001b[1;31mRuntimeError\u001b[0m: No Arduino device found."
     ]
    }
   ],
   "source": [
    "# cannot be run with Google Colab\n",
    "# run with a local Jupyter Notebook instead\n",
    "import tclab\n",
    "import time\n",
    "# Connect to Arduino\n",
    "a = tclab.TCLab()\n",
    "print('LED On')\n",
    "a.LED(100)\n",
    "# Pause for 1 second\n",
    "time.sleep(1.0)\n",
    "print('LED Off')\n",
    "a.LED(0)\n",
    "a.close()"
   ]
  },
  {
   "cell_type": "markdown",
   "metadata": {},
   "source": [
    "4. Test the temperature reading with the following code cell. The temperature is available with a.T1 (Temperature 1) or a.T2 (Temperature 2)."
   ]
  },
  {
   "cell_type": "code",
   "execution_count": 3,
   "metadata": {},
   "outputs": [
    {
     "name": "stdout",
     "output_type": "stream",
     "text": [
      "TCLab version 0.4.8\n",
      "--- Serial Ports ---\n"
     ]
    },
    {
     "ename": "RuntimeError",
     "evalue": "No Arduino device found.",
     "output_type": "error",
     "traceback": [
      "\u001b[1;31m---------------------------------------------------------------------------\u001b[0m",
      "\u001b[1;31mRuntimeError\u001b[0m                              Traceback (most recent call last)",
      "\u001b[1;32m<ipython-input-3-5cef9dfc85e3>\u001b[0m in \u001b[0;36m<module>\u001b[1;34m()\u001b[0m\n\u001b[0;32m      3\u001b[0m \u001b[1;32mimport\u001b[0m \u001b[0mtime\u001b[0m\u001b[1;33m\u001b[0m\u001b[0m\n\u001b[0;32m      4\u001b[0m \u001b[1;31m# Connect to Arduino\u001b[0m\u001b[1;33m\u001b[0m\u001b[1;33m\u001b[0m\u001b[0m\n\u001b[1;32m----> 5\u001b[1;33m \u001b[0ma\u001b[0m \u001b[1;33m=\u001b[0m \u001b[0mtclab\u001b[0m\u001b[1;33m.\u001b[0m\u001b[0mTCLab\u001b[0m\u001b[1;33m(\u001b[0m\u001b[1;33m)\u001b[0m\u001b[1;33m\u001b[0m\u001b[0m\n\u001b[0m\u001b[0;32m      6\u001b[0m \u001b[1;31m# Temperature\u001b[0m\u001b[1;33m\u001b[0m\u001b[1;33m\u001b[0m\u001b[0m\n\u001b[0;32m      7\u001b[0m \u001b[0mprint\u001b[0m\u001b[1;33m(\u001b[0m\u001b[1;34m'Temperature (degC)'\u001b[0m\u001b[1;33m)\u001b[0m\u001b[1;33m\u001b[0m\u001b[0m\n",
      "\u001b[1;32m~\\Anaconda3\\lib\\site-packages\\tclab\\tclab.py\u001b[0m in \u001b[0;36m__init__\u001b[1;34m(self, port, debug)\u001b[0m\n\u001b[0;32m     58\u001b[0m         \u001b[0mself\u001b[0m\u001b[1;33m.\u001b[0m\u001b[0mport\u001b[0m\u001b[1;33m,\u001b[0m \u001b[0mself\u001b[0m\u001b[1;33m.\u001b[0m\u001b[0marduino\u001b[0m \u001b[1;33m=\u001b[0m \u001b[0mfind_arduino\u001b[0m\u001b[1;33m(\u001b[0m\u001b[0mport\u001b[0m\u001b[1;33m)\u001b[0m\u001b[1;33m\u001b[0m\u001b[0m\n\u001b[0;32m     59\u001b[0m         \u001b[1;32mif\u001b[0m \u001b[0mself\u001b[0m\u001b[1;33m.\u001b[0m\u001b[0mport\u001b[0m \u001b[1;32mis\u001b[0m \u001b[1;32mNone\u001b[0m\u001b[1;33m:\u001b[0m\u001b[1;33m\u001b[0m\u001b[0m\n\u001b[1;32m---> 60\u001b[1;33m             \u001b[1;32mraise\u001b[0m \u001b[0mRuntimeError\u001b[0m\u001b[1;33m(\u001b[0m\u001b[1;34m'No Arduino device found.'\u001b[0m\u001b[1;33m)\u001b[0m\u001b[1;33m\u001b[0m\u001b[0m\n\u001b[0m\u001b[0;32m     61\u001b[0m \u001b[1;33m\u001b[0m\u001b[0m\n\u001b[0;32m     62\u001b[0m         \u001b[1;32mtry\u001b[0m\u001b[1;33m:\u001b[0m\u001b[1;33m\u001b[0m\u001b[0m\n",
      "\u001b[1;31mRuntimeError\u001b[0m: No Arduino device found."
     ]
    }
   ],
   "source": [
    "import tclab\n",
    "import numpy as np\n",
    "import time\n",
    "# Connect to Arduino\n",
    "a = tclab.TCLab()\n",
    "# Temperature\n",
    "print('Temperature (degC)')\n",
    "print(a.T1)\n",
    "# Sleep (10 sec) with LED on\n",
    "a.LED(100)\n",
    "time.sleep(10.0)\n",
    "a.LED(0)\n",
    "# Temperature\n",
    "print('Temperature (degC)')\n",
    "print(a.T1)\n",
    "# Close connection to Arduino\n",
    "a.close()"
   ]
  },
  {
   "cell_type": "markdown",
   "metadata": {},
   "source": [
    "5. Write a program that retrieves a temperature value from the Temperature Control Lab each second for 1 minute. Create a plot of the temperature value versus the time is was collected (start from 0 sec). Report the average (mean), maximum, and minimum temperatures. The temperature should be reported in degrees Celsius. \n",
    "\n",
    "Sample Output:\n",
    "\n",
    "Max: 98.0 degC\n",
    "Min: 18.0 degC\n",
    "Average: 70.0 degC\n",
    "\n",
    "Note that two temperatures are available (a.T1 and a.T2). For this assignment, please select just a.T1 for the summary statistics and plotting. The heater can be activated during the test with the command ```a.Q1(30)``` where the allowable heater values are betweeen 0% and 100%."
   ]
  },
  {
   "cell_type": "code",
   "execution_count": null,
   "metadata": {},
   "outputs": [],
   "source": []
  },
  {
   "cell_type": "markdown",
   "metadata": {},
   "source": [
    "### Problem 2: Gravity Drained Tanks"
   ]
  },
  {
   "cell_type": "markdown",
   "metadata": {},
   "source": [
    "Cylindrical dual gravity drained tanks with a constant cross sectional area (Ac=2 $m^2$) and maximum height of 1 $m$. If the tank overfills, the excess fluid is lost. There is an inlet flow $q_{in}$, an intermediate outlet flow from tank 1 to tank 2 as $q_{out1}$, and a final outlet flow as $q_{out2}$. \n",
    "\n",
    "<img width=\"30%\" src='https://apmonitor.com/pdc/uploads/Main/2tank_schematic.png'>\n",
    "\n",
    "All flows are in units of $m^3/hr$ and heights are reported in units of $m$.\n",
    "A mass balance on each tank is used to derive the following equations that relate inlet flow to the height of the tanks.\n",
    "\n",
    "$A_c \\frac{dh_1}{dt}=q_{in}-q_{out1}$\n",
    "\n",
    "$A_c \\frac{dh_2}{dt}=q_{out1}-q_{out2}$\n",
    "\n",
    "The outlet flow rate for each tank depends on the height in the tank according to Bernoulli’s equation for incompressible fluids as:\n",
    "\n",
    "$q_{out1}=c_1 \\sqrt{h_1}$\n",
    "\n",
    "$q_{out2}=c_2 \\sqrt{h_2}$\n",
    "\n",
    "The tanks are initially empty when the inlet to tank 1 starts to flow at a rate of 0.5 $m^3/hr$.\n",
    "\n",
    "Solve for the heights ($h_1$ and $h_2$) as functions of time with $c_1$=0.13 and $c_2$=0.20. Use a timestep size of dt=0.5 $hr$ and solve up until a final time of t=10 $hr$. \n",
    "\n",
    "Plot the predicted heights $h_1$ and $h_2$ as functions of time on the same plot.  Label the axes as ```time ($hr$)``` and ```height ($m$)```.\n",
    "\n",
    "Hint: use an explicit Euler's equation applied to each $frac{dh}{dt}$ above: $frac{dh}{dt} = f(h,t)$\n",
    "\n",
    "$h_{n+1} = h{n} + dt \\, f(h_n,t_n)$\n",
    "\n",
    "Don’t forget to add an IF statement to check for overfill conditions such as:\n",
    "\n",
    "    if (height[i]>=1.0 and dheight_dt>=0):\n",
    "        height[i+1] = 1.0\n",
    "    else:\n",
    "        height[i+1] = height[i] + dt * ( f(height[i], qin, qout1) )"
   ]
  },
  {
   "cell_type": "code",
   "execution_count": null,
   "metadata": {},
   "outputs": [],
   "source": []
  }
 ],
 "metadata": {
  "kernelspec": {
   "display_name": "Python 3",
   "language": "python",
   "name": "python3"
  },
  "language_info": {
   "codemirror_mode": {
    "name": "ipython",
    "version": 3
   },
   "file_extension": ".py",
   "mimetype": "text/x-python",
   "name": "python",
   "nbconvert_exporter": "python",
   "pygments_lexer": "ipython3",
   "version": "3.7.0"
  }
 },
 "nbformat": 4,
 "nbformat_minor": 2
}
