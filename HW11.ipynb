{
 "cells": [
  {
   "cell_type": "markdown",
   "metadata": {},
   "source": [
    "# Homework 11 - Debugging"
   ]
  },
  {
   "cell_type": "markdown",
   "metadata": {},
   "source": [
    "Instructions: Fix the errors in the following problems. Some of the problems are with the code syntax, causing an error message. Other errors are logical mistakes in the programming that don't give a syntax error but do give an answer that is wrong.\n",
    "\n",
    "### Problem 1 -- Conditionals"
   ]
  },
  {
   "cell_type": "markdown",
   "metadata": {},
   "source": [
    "\n",
    "**(a)** x is given below. Write an if statement that will print whether x is negative, postive, or zero."
   ]
  },
  {
   "cell_type": "code",
   "execution_count": 1,
   "metadata": {
    "collapsed": true
   },
   "outputs": [],
   "source": [
    "x = 2.2"
   ]
  },
  {
   "cell_type": "code",
   "execution_count": 2,
   "metadata": {},
   "outputs": [
    {
     "ename": "SyntaxError",
     "evalue": "invalid syntax (<ipython-input-2-4579130a5f89>, line 1)",
     "output_type": "error",
     "traceback": [
      "\u001b[1;36m  File \u001b[1;32m\"<ipython-input-2-4579130a5f89>\"\u001b[1;36m, line \u001b[1;32m1\u001b[0m\n\u001b[1;33m    if x<0\u001b[0m\n\u001b[1;37m          ^\u001b[0m\n\u001b[1;31mSyntaxError\u001b[0m\u001b[1;31m:\u001b[0m invalid syntax\n"
     ]
    }
   ],
   "source": [
    "if x<0\n",
    "    print('negative')\n",
    "elif x>0\n",
    "    print('positive')\n",
    "else\n",
    "    print('zero')"
   ]
  },
  {
   "cell_type": "markdown",
   "metadata": {},
   "source": [
    "**(b)** x and y are given below. Write an if statement that will print whether x and y are not negative, or both negative, or if one or both are zero."
   ]
  },
  {
   "cell_type": "code",
   "execution_count": null,
   "metadata": {
    "collapsed": true
   },
   "outputs": [],
   "source": [
    "x = 2.2        # or 0.0\n",
    "y = -6.6       # or +6.6, or 0.0, etc."
   ]
  },
  {
   "cell_type": "code",
   "execution_count": null,
   "metadata": {
    "collapsed": true
   },
   "outputs": [],
   "source": [
    "negative = -1\n",
    "if x>0 and y>0:\n",
    "    print(not negative)\n",
    "elif x<0 and y<0:\n",
    "    print('both negative')\n",
    "elif x==0 or y==0:\n",
    "    print('one is zero')\n",
    "elif x==0 and y==0:\n",
    "    print('both are zero')    \n",
    "else:\n",
    "    print('one if positive, one is negative')"
   ]
  },
  {
   "cell_type": "markdown",
   "metadata": {},
   "source": [
    "**(c)** Write a single line (condensed) if statement that will evaluate $y = 1/x$ if x is not zero. If x is 0, then y=0."
   ]
  },
  {
   "cell_type": "code",
   "execution_count": null,
   "metadata": {
    "collapsed": true
   },
   "outputs": [],
   "source": [
    "y = 1.0/x if x!=0: else: 0\n",
    "print (x)\n",
    "print (y)"
   ]
  },
  {
   "cell_type": "markdown",
   "metadata": {},
   "source": [
    "### Problem 2 -- Loops"
   ]
  },
  {
   "cell_type": "markdown",
   "metadata": {},
   "source": [
    "**(a)** Write a for loop that iterates 5 times and prints the iteration value to the screen (that is, on the first pass it should print 0, the second pass should print 1, etc."
   ]
  },
  {
   "cell_type": "code",
   "execution_count": null,
   "metadata": {
    "collapsed": true
   },
   "outputs": [],
   "source": [
    "for i in range(4):\n",
    "    print i"
   ]
  },
  {
   "cell_type": "markdown",
   "metadata": {},
   "source": [
    "**(b)** Write a for loop  that will compute the sum of the first 10 numbers in the sequence: 0.1, 0.2, 0.3, 0.4..."
   ]
  },
  {
   "cell_type": "code",
   "execution_count": null,
   "metadata": {
    "collapsed": true
   },
   "outputs": [],
   "source": [
    "import numpy as np\n",
    "\n",
    "# method 1 - linspace\n",
    "x = np.linspace(0.0,1.0,10)\n",
    "sum = 0\n",
    "for i in x:\n",
    "    sum = sum + i\n",
    "print(sum)\n",
    "\n",
    "# method 2 - arange\n",
    "x = np.arange(0.1,1.1,0.1)\n",
    "for i in x:\n",
    "    sum += i # shortened sum=sum+i\n",
    "print(sum)\n",
    "\n",
    "# method 3 - np.sum instead of loop\n",
    "x = np.linspace(0.0,1.0,10)\n",
    "print(np.sum(x))"
   ]
  },
  {
   "cell_type": "markdown",
   "metadata": {},
   "source": [
    "**(c)** Repeat part (b), but exclude value 0.5 from the sum. Use a \"continue\" statement."
   ]
  },
  {
   "cell_type": "code",
   "execution_count": null,
   "metadata": {
    "collapsed": true
   },
   "outputs": [],
   "source": [
    "x = np.linspace(0.1,1.0,10)\n",
    "sum = 0\n",
    "for i in x:\n",
    "    if i != 0.5:\n",
    "        sum = sum + i\n",
    "print(sum)"
   ]
  },
  {
   "cell_type": "markdown",
   "metadata": {},
   "source": [
    "### Problem 3 -- Functions"
   ]
  },
  {
   "cell_type": "markdown",
   "metadata": {},
   "source": [
    "**(a)** Write a function called \"sum\" that takes two numbers and returns the sum of them."
   ]
  },
  {
   "cell_type": "code",
   "execution_count": null,
   "metadata": {
    "collapsed": true
   },
   "outputs": [],
   "source": [
    "def mySum(a,b):\n",
    "    c = a + b\n",
    "    return c\n",
    "\n",
    "print(mySum([2,3.75]))"
   ]
  },
  {
   "cell_type": "markdown",
   "metadata": {},
   "source": [
    "**(b)** Write a function called \"quad\" that takes three numbers $a$, $b$, and $c$ as function arguments that are the coefficients of the quadratic formula $ax^2+bx+c=0$, and returns the two roots. Test your function on $a=1,\\,b=-1,\\, c=-2$. You should get roots of 2 and -1."
   ]
  },
  {
   "cell_type": "code",
   "execution_count": null,
   "metadata": {
    "collapsed": true
   },
   "outputs": [],
   "source": [
    "def quad(a,b,c):\n",
    "    x1 = (-b+pow(b**2-4.0*a*c,0.5))/(2.0*a)\n",
    "    x2 = (-b-pow(b**2-4.0*a*c,0.5))/(2.0*a)\n",
    "    return x1, x2\n",
    "\n",
    "x1, x2 = quad(1,-1,-2)\n",
    "print('Root 1: ' x1)\n",
    "print('Root 2: ' x2)"
   ]
  },
  {
   "cell_type": "markdown",
   "metadata": {},
   "source": [
    "### Problem 4 -- Arrays"
   ]
  },
  {
   "cell_type": "markdown",
   "metadata": {},
   "source": [
    "**(a)** Type \"import numpy as np\" to get the array functionality. Memorize this line."
   ]
  },
  {
   "cell_type": "code",
   "execution_count": null,
   "metadata": {
    "collapsed": true
   },
   "outputs": [],
   "source": [
    "import numpie as np"
   ]
  },
  {
   "cell_type": "markdown",
   "metadata": {},
   "source": [
    "**(b)** Use np.linspace(start, end, npoints) to create a list of 20 uniformly spaced points between 0 and 3.14. Call the array \"x\"."
   ]
  },
  {
   "cell_type": "code",
   "execution_count": null,
   "metadata": {
    "collapsed": true
   },
   "outputs": [],
   "source": [
    "x = np.linearspace(0,3.14,20)\n",
    "print(x)"
   ]
  },
  {
   "cell_type": "markdown",
   "metadata": {},
   "source": [
    "**(c)** Use a for loop to add up all of the elements of the the array x in the last part. You will need to initialize a variable to hold the sum, like \"s=0\". Then add up all the entries. Use the \"np.size(x)\" function in the for loop when determining how many elements  there are in the array. Something like: for i in range(np.size(x)) :"
   ]
  },
  {
   "cell_type": "code",
   "execution_count": null,
   "metadata": {
    "collapsed": true
   },
   "outputs": [],
   "source": [
    "# method 1\n",
    "s = 0\n",
    "for i in range(np.size(x)):\n",
    "    s = x[i]\n",
    "print(s)\n",
    "\n",
    "# method 2\n",
    "s = 0\n",
    "for i in x\n",
    "    s = s + i\n",
    "print(s)"
   ]
  },
  {
   "cell_type": "markdown",
   "metadata": {},
   "source": [
    "**(d)** Repeat part (c), but this time use numpy's \"sum\" function: np.sum(x)."
   ]
  },
  {
   "cell_type": "code",
   "execution_count": null,
   "metadata": {
    "collapsed": true
   },
   "outputs": [],
   "source": [
    "# method 3\n",
    "s = np.mean(x)\n",
    "print(s)"
   ]
  },
  {
   "cell_type": "markdown",
   "metadata": {},
   "source": [
    "**(e)** Find the square of all elements of x."
   ]
  },
  {
   "cell_type": "code",
   "execution_count": null,
   "metadata": {
    "collapsed": true
   },
   "outputs": [],
   "source": [
    "print(x^2)"
   ]
  },
  {
   "cell_type": "markdown",
   "metadata": {},
   "source": [
    "**(f)** For the array y below, find the array dy, whose elements are the difference in neighboring y elements. That is, dy[0] is y[1]-y[0]; dy[1] is y[2]-y[1], etc. Use array indexing, not a loop. Recall that y[1:] will give an array that has the second to the last element of y. y[0:-1] will have elements from the beginning to the second to the last element of y."
   ]
  },
  {
   "cell_type": "code",
   "execution_count": null,
   "metadata": {
    "collapsed": true
   },
   "outputs": [],
   "source": [
    "y = np.array([0, 1, 1, 2, 3, 5, 8, 12])\n",
    "print('y[1:]')\n",
    "print(y[1,:])\n",
    "print('y[0:-1]')\n",
    "print(y[0:-1])\n",
    "print('dy')\n",
    "dy = y[1:] - y[0:-1]\n",
    "print(dy)"
   ]
  },
  {
   "cell_type": "markdown",
   "metadata": {},
   "source": [
    "**(g)** For the arrays y and x below, find the dot product by multiplying the two arrays and using the \"np.sum\" function. Do this in one combined command on a single line."
   ]
  },
  {
   "cell_type": "code",
   "execution_count": null,
   "metadata": {
    "collapsed": true
   },
   "outputs": [],
   "source": [
    "x = np.array([0, 1, 2])\n",
    "y = np.array([55, -20, 1.1])\n",
    "print(x * np.sum(y))"
   ]
  },
  {
   "cell_type": "markdown",
   "metadata": {},
   "source": [
    "**(h)** Create an array of 20 zeros using the \"np.zeros\" function. Also, create and array of 20 values where each value is 298.15."
   ]
  },
  {
   "cell_type": "code",
   "execution_count": null,
   "metadata": {
    "collapsed": true
   },
   "outputs": [],
   "source": [
    "x0 = np.zeros(20)\n",
    "x1 = np.zeros(20)*298.15\n",
    "print(x1)"
   ]
  },
  {
   "cell_type": "markdown",
   "metadata": {},
   "source": [
    "### Problem 5 -- Plotting"
   ]
  },
  {
   "cell_type": "code",
   "execution_count": 3,
   "metadata": {},
   "outputs": [
    {
     "data": {
      "text/plain": [
       "[<matplotlib.lines.Line2D at 0x1720771e048>]"
      ]
     },
     "execution_count": 3,
     "metadata": {},
     "output_type": "execute_result"
    },
    {
     "data": {
      "image/png": "[encoded data removed]",
      "text/plain": [
       "<matplotlib.figure.Figure at 0x1720771e080>"
      ]
     },
     "metadata": {},
     "output_type": "display_data"
    }
   ],
   "source": [
    "# import plotting module\n",
    "import matplotlib.pyplot as plt\n",
    "import numpy as np\n",
    "from math import factorial\n",
    "%matplotlib inline\n",
    "\n",
    "x = np.linspace(0,2*np.pi,100)\n",
    "\n",
    "# exact\n",
    "y1 = np.sin(x)\n",
    "# approximate\n",
    "y2 = x - x**3/factorial(3) \\\n",
    "       + x**5/factorial(5) \\\n",
    "       - x**7/factorial(7) \\\n",
    "       + x**9/factorial(9) \\\n",
    "       - x**11/factorial(11)\n",
    "\n",
    "plt.plot(x,y1)\n",
    "plt.plot(x,y2)"
   ]
  },
  {
   "cell_type": "markdown",
   "metadata": {},
   "source": [
    "There are no bugs here, just enhance the plot according to the instructions below.\n",
    "\n",
    "**(a)** Add x and y labels to the plot given as a sample above. Use \"sin(x)\" to label the y-axis and \"x\" for the x-axis. \n",
    "\n",
    "**(b)** Change the symbols to be squares, and the line color to be red.\n",
    "\n",
    "**(c)** Add a legend to the plot. Label the curves 'approximate' and 'exact' by including \", label='exact'\" in the plot command. Then call plt.legend() to show the legend.\n",
    "\n",
    "**(d)** Change the y axis limits to -1.2 to 1.2 by doing:\n",
    "\n",
    "    plt.ylim([-1.2,1.2])\n",
    "    \n",
    "**(e)** For the x, y1, y2 data below. Create a 2x1 subplot that plots x,y1 in the top panel, and x,y2 in the lower panel. Use \"subplot(nrows, ncols, which_plot)\""
   ]
  },
  {
   "cell_type": "code",
   "execution_count": null,
   "metadata": {
    "collapsed": true
   },
   "outputs": [],
   "source": [
    "x = np.linspace(0,20,100)\n",
    "y1 = np.sin(x)*np.exp(-0.2*x)\n",
    "y2 = np.cos(x)*np.exp(-0.2*x)"
   ]
  },
  {
   "cell_type": "markdown",
   "metadata": {},
   "source": [
    "### Problem 6 -- Debugging"
   ]
  },
  {
   "cell_type": "markdown",
   "metadata": {},
   "source": [
    "Debug the following code with print statements or with a debugger that steps through the code one line at a time.\n",
    "\n",
    "This script provides a problem statement and associated python script. However, \n",
    "various bugs have been introduced into the python script. Find and correct the \n",
    "bugs. There are at least 8 errors. In the end, the graphs should match the paper.\n",
    "\n",
    "\n",
    "You are investigating a solar-powered high-altitude long-endurance aircraft. \n",
    "You need to know the solar energy flux, mean flux and total energy received over a 24 hour period. \n",
    "\n",
    "Use the model in the attached paper (Equations 5-13, variable descriptions in Table 2). \n",
    "tao = .85 # the transmittance factor\n",
    "ISC = 1367 # W/m^2, intensity of the extraterrestrial normal solar radiation\n",
    "r0 = 149597890. # km, mean sun-earth distance\n",
    "epsilon = .0167 # eccentricity ratio of the earth\n",
    "dn = 196. # day number\n",
    "T = 24. # hr\n",
    "phi = .492 # radians, latitude of location\n",
    "\n",
    "Plot Ps, Es and Pms and report the total amount of power received in 24 hours.\n",
    "\n",
    "Model from:\n",
    "Xian-Zhong Gao, Zhong-Xi Hou, Zheng Guo, Jian-Xia Liu, Xiao-Qian Chen, \n",
    "Energy management strategy for solar-powered high-altitude long-endurance aircraft, \n",
    "Energy Conversion and Management, Volume 70, June 2013, Pages 20-30, ISSN 0196-8904\n",
    "(http://www.sciencedirect.com/science/article/pii/S0196890413000277)"
   ]
  },
  {
   "cell_type": "code",
   "execution_count": null,
   "metadata": {
    "collapsed": true
   },
   "outputs": [],
   "source": [
    "import numpy as np\n",
    "import scipy.integrate as integrate\n",
    "import matplotlib.pyplot as plot\n",
    "\n",
    "def Ps(t):  #Power as a function of time\n",
    "    tao = 0.85 # the transmittance factor\n",
    "    ISC = 1.367 # kW/m^2, intensity of the extraterrestrial normal solar radiation\n",
    "    r0 = 149597890. # km, mean sun-earth distance\n",
    "    epsilon = 0.0167 # eccentricity ratio of the earth\n",
    "    dn = 196. # day number\n",
    "    phi = .492 # radians, latitude of location\n",
    "    \n",
    "    #formulas\n",
    "    w = np.pi - (np.pi*t/12.0)\n",
    "    delta = ((23.45*np.pi*np.sin(360.0*(284.+ dn)/365.0))/180.0)\n",
    "    theta = (np.pi/2.) - (np.arccos(np.sin(phi)*np.sin(delta)) + np.cos(phi)*np.cos(delta)*np.cos(w))\n",
    "    alpha = 2.*np.pi*(dn-4.0)/365.0\n",
    "    r = r0* (1.-(epsilon**2.))/(1.+(epsilon*np.cos(alpha)))\n",
    "    I0n = ISC*((r0/r)**2)\n",
    "    \n",
    "    if (I0n * tao * np.sin(theta)) < 0\n",
    "        solar_power = 0\n",
    "    else\n",
    "        solar_power = I0n * tao * np.sin(theta)\n",
    "    \n",
    "    return solar_power\n",
    "\n",
    "\n",
    "N = 50 #Number of points to calculate for the graph\n",
    "time = np.linspace(0,24, N)\n",
    "#initialize arrays for graphs\n",
    "P_s = np.zeros(N)\n",
    "Es = np.zeros(N)\n",
    "P_ms = np.ones(N)\n",
    "\n",
    "\n",
    "for i in np.arange(np.size(time)):\n",
    "    P_s[i] = Ps(i)\n",
    "\n",
    "for i in range(N):\n",
    "    Es[i] = integrate.quad(Ps,0,time[i])[0]\n",
    "\n",
    "Pms = (integrate.quad(Ps,0,24))/24.\n",
    "P_ms = Pms * P_ms\n",
    "\n",
    "fig = plt.figure(1)\n",
    "plt.plot(time,P_s,label='Solar power')  \n",
    "plt.plot(time,P_ms,label='Mean power')\n",
    "plt.legend()\n",
    "\n",
    "fig = plt.figure(2)\n",
    "plt.plot(time,Es,lable='Total power received')\n",
    "plt.legend(loc='lower right')\n",
    "plt.show()  \n",
    "\n",
    "print('Total energy in a day: ', Es[-0], 'Wh/m^2')"
   ]
  }
 ],
 "metadata": {
  "kernelspec": {
   "display_name": "Python 3",
   "language": "python",
   "name": "python3"
  },
  "language_info": {
   "codemirror_mode": {
    "name": "ipython",
    "version": 3
   },
   "file_extension": ".py",
   "mimetype": "text/x-python",
   "name": "python",
   "nbconvert_exporter": "python",
   "pygments_lexer": "ipython3",
   "version": "3.6.3"
  }
 },
 "nbformat": 4,
 "nbformat_minor": 1
}
