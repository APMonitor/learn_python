{
 "cells": [
  {
   "cell_type": "markdown",
   "metadata": {},
   "source": [
    "# Homework 15: Integrals, Interpolation, Curve Fit "
   ]
  },
  {
   "cell_type": "markdown",
   "metadata": {},
   "source": [
    "### Problem 1\n",
    "\n",
    "Find the numerical integral of the following function:\n",
    "$$I = \\int_0^{2\\pi} e^{-x}\\sin(3x)dx.$$ "
   ]
  },
  {
   "cell_type": "code",
   "execution_count": null,
   "metadata": {},
   "outputs": [],
   "source": []
  },
  {
   "cell_type": "markdown",
   "metadata": {},
   "source": [
    "### Problem 2\n",
    "Given the data ```x_given``` and ```y_given``` below. Find the linear interpolate y_il corresponding to ```x_i=0.54```. Also find the cubic spline value of y_is at the same point. The ```x_given``` and ```y_given``` values are computed from $y=f(x)=\\exp(4x)$. Find the relative error between your interpolants and the exact value. The relative error is given by $\\epsilon = |(y-y_{exact})/y_{exact}|$. Are you happy with the result?"
   ]
  },
  {
   "cell_type": "code",
   "execution_count": null,
   "metadata": {
    "collapsed": true
   },
   "outputs": [],
   "source": [
    "import numpy as np\n",
    "\n",
    "x_given = np.array([0,0.2,0.4,0.8,1.0])\n",
    "y_given = np.exp(4.0*x_given)\n",
    "\n",
    "x_i     = 0.54\n",
    "y_exact = np.exp(4.0*x_i)\n",
    "\n"
   ]
  },
  {
   "cell_type": "markdown",
   "metadata": {},
   "source": [
    "### Problem 3\n",
    "\n",
    "In a previous assignment we used thermo data for heat capacities of species. Its kind of annoying that we have two temperature ranges for each species. For the given array of temperatures (K) below, the corresponding cp/Rg array is given for CH4. This is computed using the equations and the coefficients for the two temperature ranges given in previous assignments.\n",
    "\n",
    "Fit a single 4th order polynomial to the whole range of temperature data. At each point, compare your polynomial fit to the one given. \n",
    "\n",
    "Report the maximum relative error that occurs over the list of temperatures.\n",
    "\n",
    "Plot the two versions to visually compare the original data and your polynomial fit."
   ]
  },
  {
   "cell_type": "code",
   "execution_count": null,
   "metadata": {},
   "outputs": [],
   "source": [
    "T = np.linspace(300.,3000.,100)\n",
    "\n",
    "a_lo = np.array([ 5.15,-1.37E-02,4.92E-05,-4.85E-08,1.67E-11])\n",
    "a_hi = np.array([7.49E-02,1.34E-02,-5.73E-06,1.22E-09,-1.02E-13])\n",
    "i_lo = np.where(np.logical_and(T>=300.0, T<1000.0))\n",
    "i_hi = np.where(np.logical_and(T>=1000.0, T<=3000.0))\n",
    "cpRg = np.zeros(100)\n",
    "cpRg[i_lo] = a_lo[0] + a_lo[1]*T[i_lo] + a_lo[2]*T[i_lo]**2.0 + \\\n",
    "             a_lo[3]*T[i_lo]**3.0 + a_lo[4]*T[i_lo]**4.0\n",
    "cpRg[i_hi] = a_hi[0] + a_hi[1]*T[i_hi] + a_hi[2]*T[i_hi]**2.0 + \\\n",
    "             a_hi[3]*T[i_hi]**3.0 + a_hi[4]*T[i_hi]**4.0\n"
   ]
  },
  {
   "cell_type": "markdown",
   "metadata": {},
   "source": [
    "### Problem 4\n",
    "The following kinetic R(T) were collected. We want to fit this to the following model function: $R = kT^me^{-E_a/(R_gT)}$. Here, $k$, $m$, and $(E_a/R_g)$, are adjustable parameters that we want to find so that our model best fits the data. \n",
    "\n",
    "Find the best parameters and plot the data and the model function together on the same graph.\n"
   ]
  },
  {
   "cell_type": "code",
   "execution_count": null,
   "metadata": {},
   "outputs": [],
   "source": [
    "T = np.linspace(500.,1000.,8)\n",
    "R = [105.598, 89.700, 70.768, 66.996, 60.711, 58.992, 55.8328, 53.420]"
   ]
  }
 ],
 "metadata": {
  "kernelspec": {
   "display_name": "Python 3",
   "language": "python",
   "name": "python3"
  },
  "language_info": {
   "codemirror_mode": {
    "name": "ipython",
    "version": 3
   },
   "file_extension": ".py",
   "mimetype": "text/x-python",
   "name": "python",
   "nbconvert_exporter": "python",
   "pygments_lexer": "ipython3",
   "version": "3.7.0"
  }
 },
 "nbformat": 4,
 "nbformat_minor": 1
}
