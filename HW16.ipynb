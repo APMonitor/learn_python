{
 "cells": [
  {
   "cell_type": "markdown",
   "metadata": {},
   "source": [
    "# Homework 16"
   ]
  },
  {
   "cell_type": "markdown",
   "metadata": {},
   "source": [
    "### Problem 1\n",
    "\n",
    "Solve the following ODE $$\\frac{dy}{dt} = ye^{-t}$$ to $t=6$.  Plot the resulting function $y(t)$. The initial condition is $y_0=1$. "
   ]
  },
  {
   "cell_type": "code",
   "execution_count": null,
   "metadata": {
    "collapsed": true
   },
   "outputs": [],
   "source": []
  },
  {
   "cell_type": "markdown",
   "metadata": {
    "collapsed": true
   },
   "source": [
    "### Problem 2\n",
    "\n",
    "For the following first order reaction $A\\rightarrow B$, solve for the concentration of A in time if the initial concentration $A_0=1.0$, and the reaction rate is given by $$\\frac{dC_A}{dt} = -kC_A.$$ where k=2.0. \n",
    "\n",
    "#### Part a \n",
    "Make a plot of $C_{A}$ versus time. \n",
    "#### Part b\n",
    "\n",
    "Calculate the product composition, $C_{B}(t)$ by solving the additional equation $$\\frac{dC_B}{dt} = kC_A.$$ Include it on the plot of Part a."
   ]
  },
  {
   "cell_type": "code",
   "execution_count": null,
   "metadata": {
    "collapsed": true
   },
   "outputs": [],
   "source": []
  },
  {
   "cell_type": "markdown",
   "metadata": {
    "collapsed": true
   },
   "source": [
    "### Problem 3\n",
    "\n",
    "We are performing a chemical reaction as follows.\n",
    "\\begin{align}\n",
    "\\mbox{Rxn 1: }\\phantom{xxx} & A+B\\rightarrow C \\\\\n",
    "\\mbox{Rxn 2: }\\phantom{xxx} & B+C\\rightarrow D \n",
    "\\end{align}\n",
    "Here, symbols $A$, $B$, $C$, $D$ denote species concentrations in mol/L. The initial concentrations are $A_0=1$, $B_0=1$, $C_0=0$, $D_0=0$. Also, $k_1=1\\,L/mol*s$, and $k_2=1.5\\,L/mol*s$.\n",
    "\n",
    "Solve for the concentrations of $A$, $B$, $C$, and $D$ as functions of time. Solve at timestep intervals of $dt=0.2\\,s$ and solve to a final time of $t=3\\,s$. Also, solve for the selectivity defined as $S=C/(C+D)$ as a function of time. (S is initially undefined, but you can set it equal to 1 at $t=0$.) Use ODEINT (not Euler's equation) applied to each d(Species)/dt above.\n",
    "\n",
    "Plot the concentrations of A, B, C, D, and S as functions of time on the same plot. Label the axes as \"time (s)\" and “concentration (mol/L)”. You can compare your solution to problem 2 from HW 5 where Euler's method is used to solve the same problem.\n"
   ]
  },
  {
   "cell_type": "code",
   "execution_count": null,
   "metadata": {
    "collapsed": true
   },
   "outputs": [],
   "source": []
  }
 ],
 "metadata": {
  "kernelspec": {
   "display_name": "Python 3",
   "language": "python",
   "name": "python3"
  },
  "language_info": {
   "codemirror_mode": {
    "name": "ipython",
    "version": 3
   },
   "file_extension": ".py",
   "mimetype": "text/x-python",
   "name": "python",
   "nbconvert_exporter": "python",
   "pygments_lexer": "ipython3",
   "version": "3.7.0"
  }
 },
 "nbformat": 4,
 "nbformat_minor": 1
}
