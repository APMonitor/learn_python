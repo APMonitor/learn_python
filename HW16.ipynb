{
 "cells": [
  {
   "cell_type": "markdown",
   "metadata": {},
   "source": [
    "# Homework 16: Differential Equations"
   ]
  },
  {
   "cell_type": "markdown",
   "metadata": {},
   "source": [
    "### Problem 1\n",
    "\n",
    "Solve the following ODE $$\\frac{dy}{dt} = ye^{-t}$$ to $t=6$.  Plot the resulting function $y(t)$. The initial condition is $y_0=1$. "
   ]
  },
  {
   "cell_type": "code",
   "execution_count": null,
   "metadata": {
    "collapsed": true
   },
   "outputs": [],
   "source": []
  },
  {
   "cell_type": "markdown",
   "metadata": {
    "collapsed": true
   },
   "source": [
    "### Problem 2\n",
    "\n",
    "For the following first order reaction $A\\rightarrow B$, solve for the concentration of A in time if the initial concentration $A_0=1.0$, and the reaction rate is given by $$\\frac{dC_A}{dt} = -kC_A.$$ where k=2.0. \n",
    "\n",
    "#### Part a \n",
    "Make a plot of $C_{A}$ versus time. \n",
    "#### Part b\n",
    "\n",
    "Calculate the product composition, $C_{B}(t)$ by solving the additional equation $$\\frac{dC_B}{dt} = kC_A.$$ Include it on the plot of Part a."
   ]
  },
  {
   "cell_type": "code",
   "execution_count": null,
   "metadata": {
    "collapsed": true
   },
   "outputs": [],
   "source": []
  }
 ],
 "metadata": {
  "kernelspec": {
   "display_name": "Python 3",
   "language": "python",
   "name": "python3"
  },
  "language_info": {
   "codemirror_mode": {
    "name": "ipython",
    "version": 3
   },
   "file_extension": ".py",
   "mimetype": "text/x-python",
   "name": "python",
   "nbconvert_exporter": "python",
   "pygments_lexer": "ipython3",
   "version": "3.7.0"
  }
 },
 "nbformat": 4,
 "nbformat_minor": 1
}
