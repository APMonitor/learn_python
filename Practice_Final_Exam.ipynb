{
 "cells": [
  {
   "cell_type": "markdown",
   "metadata": {},
   "source": [
    "## Practice Final Exam, ChE 263\n",
    "\n",
    "This exam covers the following topics:\n",
    "\n",
    "* Problem 1: Variable types and formats\n",
    "* Problem 2: Debugging\n",
    "* Problem 3: Solve Linear Equations\n",
    "* Problem 4: Differentiate and Integrate\n",
    "* Problem 5: Interpolation\n",
    "* Problem 6: General Nonlinear Regression and Plotting\n",
    "* Problem 7: Equation Solution and Plotting\n",
    "* Problem 8: Parameter Estimation\n",
    "* Problem 9: Implicit Equation Solve\n",
    "\n",
    "A template for each problem is provided with instructions on what is needed. In some cases, the problem is to debug a section of code to produce a specific result. In other cases, the problem is to import a module and produce a result."
   ]
  },
  {
   "cell_type": "code",
   "execution_count": 1,
   "metadata": {},
   "outputs": [],
   "source": [
    "import numpy as np\n",
    "import matplotlib.pyplot as plt"
   ]
  },
  {
   "cell_type": "markdown",
   "metadata": {},
   "source": [
    "## Problem 1: Variable types and formats\n",
    "\n",
    "#### Part A\n",
    "Add **x=2.0** (float) and **y='3'** (string) together to produce a number 5 (integer). Show the type of variable with **type()** to confirm that the result is an integer.\n",
    "\n",
    "Hint: A string is converted to a number with **int()** or **float()**."
   ]
  },
  {
   "cell_type": "code",
   "execution_count": 2,
   "metadata": {},
   "outputs": [
    {
     "name": "stdout",
     "output_type": "stream",
     "text": [
      "5\n",
      "<class 'int'>\n"
     ]
    }
   ],
   "source": [
    "x = 2.0\n",
    "y = '3'\n",
    "\n",
    "# add two integers together (5)\n",
    "z = int(x) + int(y)\n",
    "# show the result of adding\n",
    "print(z)\n",
    "# show that z is an integer\n",
    "print(type(z))"
   ]
  },
  {
   "cell_type": "markdown",
   "metadata": {},
   "source": [
    "#### Part B\n",
    "\n",
    "Show $\\pi$ to 30 decimal places."
   ]
  },
  {
   "cell_type": "code",
   "execution_count": 3,
   "metadata": {},
   "outputs": [
    {
     "name": "stdout",
     "output_type": "stream",
     "text": [
      "pi = 3.141592653589793115997963468544\n"
     ]
    }
   ],
   "source": [
    "print('pi = {:.30f}'.format(np.pi))"
   ]
  },
  {
   "cell_type": "markdown",
   "metadata": {},
   "source": [
    "## Problem 2: Debugging\n",
    "\n",
    "You are working on the launch sequence of a rocket. The following code is intended to count backwards from 5 to 0 with steps of -1 in 1 second intervals. Print `blast off` after reaching zero.\n",
    "\n",
    "```python\n",
    "import time\n",
    "for i in range(5,1)\n",
    "    time.wait(1.0)\n",
    "    print(i)\n",
    "print('Blast off\")\n",
    "```\n",
    "\n",
    "The code has a few bugs (errors) that prevent it from running or producing the correct result. Find the errors in the code to produce:\n",
    "\n",
    "```\n",
    "5\n",
    "4\n",
    "3\n",
    "2\n",
    "1\n",
    "0\n",
    "Blast off\n",
    "```"
   ]
  },
  {
   "cell_type": "code",
   "execution_count": 4,
   "metadata": {},
   "outputs": [
    {
     "name": "stdout",
     "output_type": "stream",
     "text": [
      "5\n",
      "4\n",
      "3\n",
      "2\n",
      "Blast off\n"
     ]
    }
   ],
   "source": [
    "# corrected code\n",
    "import time\n",
    "for i in range(5,1,-1):\n",
    "    time.sleep(1.0)\n",
    "    print(i)\n",
    "print('Blast off')"
   ]
  },
  {
   "cell_type": "markdown",
   "metadata": {},
   "source": [
    "## Problem 3: Solve Linear Equations\n",
    "\n",
    "Find the values of $x_0$, $x_1$ that satisfy the following equations:\n",
    "\n",
    "$5 x_0 + x_1 = 2$\n",
    "\n",
    "$3 x_0 + 12 x_1 = 1$\n",
    "\n",
    "Put equations into matrix form with $A \\;x = b$ and solve $x = A^{-1}\\; b$. The $A$ matrix is given below."
   ]
  },
  {
   "cell_type": "code",
   "execution_count": 5,
   "metadata": {},
   "outputs": [
    {
     "name": "stdout",
     "output_type": "stream",
     "text": [
      "[ 0.40350877 -0.01754386]\n"
     ]
    }
   ],
   "source": [
    "A = np.array([[5,1],[3,12]])\n",
    "b = np.array([2,1])\n",
    "\n",
    "x = np.linalg.solve(A,b)\n",
    "print(x)"
   ]
  },
  {
   "cell_type": "markdown",
   "metadata": {},
   "source": [
    "## Problem 4: Differentiate and Integrate\n",
    "\n",
    "#### Part A\n",
    "\n",
    "Compute the derivative $\\frac{d f(x)}{dx}$ for the following function:\n",
    "\n",
    "$f(x) = \\frac{1}{1+e^{-x}}$\n",
    "\n",
    "Find a solution with scipy (numerically) and sympy (symbolically). For the numeric solution (scipy), use value of $x=0.2$."
   ]
  },
  {
   "cell_type": "code",
   "execution_count": 6,
   "metadata": {},
   "outputs": [
    {
     "name": "stdout",
     "output_type": "stream",
     "text": [
      "0.229249632313315\n"
     ]
    }
   ],
   "source": [
    "# numeric method\n",
    "from scipy.misc import derivative\n",
    "def f(x):\n",
    "    return 1.0/(1.0+np.exp(-x))\n",
    "print(derivative(f,0.2))"
   ]
  },
  {
   "cell_type": "code",
   "execution_count": 14,
   "metadata": {},
   "outputs": [
    {
     "data": {
      "text/latex": [
       "$\\displaystyle \\frac{e^{- x}}{\\left(1 + e^{- x}\\right)^{2}}$"
      ],
      "text/plain": [
       "exp(-x)/(1 + exp(-x))**2"
      ]
     },
     "execution_count": 14,
     "metadata": {},
     "output_type": "execute_result"
    }
   ],
   "source": [
    "# analytic solution with sympy\n",
    "import sympy as sym\n",
    "x = sym.Symbol('x')\n",
    "dx = sym.diff(1/(1+sym.exp(-x)),x)\n",
    "dx"
   ]
  },
  {
   "cell_type": "markdown",
   "metadata": {},
   "source": [
    "#### Part B\n",
    "\n",
    "Compute the integral for the function:\n",
    "\n",
    "$f(x) = \\frac{1}{1+e^{-x}}$\n",
    "\n",
    "Find a solution with scipy (numerically) and sympy (symbolically). For the numeric solution, use limits of integration for $x$ between $-1$ and $1$:\n",
    "\n",
    "$\\int_{-1}^{1} \\left(\\frac{1}{1+e^{-x}}\\right) dx$"
   ]
  },
  {
   "cell_type": "code",
   "execution_count": 8,
   "metadata": {},
   "outputs": [
    {
     "name": "stdout",
     "output_type": "stream",
     "text": [
      "1.0\n"
     ]
    },
    {
     "data": {
      "text/latex": [
       "$\\displaystyle x + \\log{\\left(1 + e^{- x} \\right)}$"
      ],
      "text/plain": [
       "x + log(1 + exp(-x))"
      ]
     },
     "execution_count": 8,
     "metadata": {},
     "output_type": "execute_result"
    }
   ],
   "source": [
    "# Solution 1: Numeric\n",
    "from scipy.integrate import quad\n",
    "def f(x):\n",
    "    return (1.0/(1.0+np.exp(-x)))\n",
    "result = quad(f,-1,1)[0]\n",
    "print(result)"
   ]
  },
  {
   "cell_type": "code",
   "execution_count": 13,
   "metadata": {},
   "outputs": [
    {
     "data": {
      "text/latex": [
       "$\\displaystyle x + \\log{\\left(1 + e^{- x} \\right)}$"
      ],
      "text/plain": [
       "x + log(1 + exp(-x))"
      ]
     },
     "execution_count": 13,
     "metadata": {},
     "output_type": "execute_result"
    }
   ],
   "source": [
    "# Solution 2: Symbolic\n",
    "import sympy as sym\n",
    "x = sym.Symbol('x')\n",
    "fs = 1/(1+sym.exp(-x))\n",
    "result = sym.integrate(fs)\n",
    "result"
   ]
  },
  {
   "cell_type": "markdown",
   "metadata": {},
   "source": [
    "## Problem 5: Interpolation\n",
    "\n",
    "Data for `x` and `y` is shown below:\n",
    "\n",
    "```python\n",
    "x = [1,3,7,10]\n",
    "y = [2,9,20,35]\n",
    "```\n",
    "\n",
    "Create a cubic spline interpolation to approximate the value of `y` at `x=5`. Show a cubic spline interpolation on a plot together with the data points. Label the plot with appropriate $x$ and $y$ axis labels, and a legend. Save the plot as `plot.png`."
   ]
  },
  {
   "cell_type": "code",
   "execution_count": 27,
   "metadata": {},
   "outputs": [
    {
     "name": "stdout",
     "output_type": "stream",
     "text": [
      "14.20634920634921\n"
     ]
    },
    {
     "data": {
      "image/png": "[encoded data removed]",
      "text/plain": [
       "<Figure size 432x288 with 1 Axes>"
      ]
     },
     "metadata": {
      "needs_background": "light"
     },
     "output_type": "display_data"
    }
   ],
   "source": [
    "from scipy.interpolate import interp1d\n",
    "x = np.array([1,3,7,10])\n",
    "y = np.array([2,9,20,35])\n",
    "plt.plot(x,y,'bo',label='data')\n",
    "\n",
    "xp = np.linspace(1,10,100)\n",
    "y1 = interp1d(x,y,kind='cubic')\n",
    "print(y1(5))\n",
    "plt.plot(xp,y1(xp),'r--',label='cubic')\n",
    "plt.plot(5,y1(5),marker='o',linestyle='',color='orange',label='evaluate')\n",
    "plt.legend(); plt.grid(); plt.xlabel('x'); plt.ylabel('y')\n",
    "plt.savefig('plot.png',dpi=600)\n",
    "plt.show()"
   ]
  },
  {
   "cell_type": "markdown",
   "metadata": {},
   "source": [
    "## Problem 6: Nonlinear Regression and Plotting\n",
    "\n",
    "Pressure in a tank is recorded as $P = [1.5,2.6,3.5,10.2,20.3,30.2]$ at respective times of $[0,1,2,3,4,5]$ min. Create a nonlinear approximation of the pressure trend as:\n",
    "\n",
    "$P = A \\, e^{n\\,t}$\n",
    "\n",
    "where $t$ is time, $A$ is an unknown pre-exponential factor, and $n$ is also an unknown parameter. Show the optimized parameter values as well as a plot with the data points."
   ]
  },
  {
   "cell_type": "code",
   "execution_count": 10,
   "metadata": {},
   "outputs": [
    {
     "name": "stdout",
     "output_type": "stream",
     "text": [
      "A = 1.8338873466478285\n",
      "n = 0.5669820526775803\n"
     ]
    },
    {
     "data": {
      "text/plain": [
       "[<matplotlib.lines.Line2D at 0x2a2f98f8708>]"
      ]
     },
     "execution_count": 10,
     "metadata": {},
     "output_type": "execute_result"
    },
    {
     "data": {
      "image/png": "[encoded data removed]",
      "text/plain": [
       "<Figure size 432x288 with 1 Axes>"
      ]
     },
     "metadata": {
      "needs_background": "light"
     },
     "output_type": "display_data"
    }
   ],
   "source": [
    "from scipy.optimize import curve_fit\n",
    "\n",
    "x = np.array([0,1,2,3,4,5])\n",
    "y = np.array([1.5,2.6,3.5,10.2,20.3,30.2])\n",
    "\n",
    "# Step 1: define nonlinear function\n",
    "# Step 2: use curve_fit to optimize the parameters\n",
    "# Step 3: plot the function with the optimized parameters and data\n",
    "\n",
    "\n",
    "## Solution\n",
    "def f(x,A,n):\n",
    "    return A*np.exp(n*x)\n",
    "\n",
    "popt, pcov = curve_fit(f,x,y)\n",
    "A = popt[0]\n",
    "n = popt[1]\n",
    "print('A = '+str(A))\n",
    "print('n = '+str(n))\n",
    "\n",
    "plt.plot(x,y,'bo')\n",
    "xp = np.linspace(0,5,100)\n",
    "plt.plot(xp,f(xp,A,n),'r-')"
   ]
  },
  {
   "cell_type": "markdown",
   "metadata": {},
   "source": [
    "## Problem 7: Equation Solution and Plotting\n",
    "\n",
    "#### Part A\n",
    "\n",
    "The ideal gas law is shown below:\n",
    "\n",
    "$P V_m=R_g T$\n",
    "\n",
    "where $P$ is the pressure, $V_m$ is the molar volume, $T$ is the temperature, and $R_g$ is the universal gas constant. Use $R_g=8.314 \\frac{J}{mol\\,K}$.\n",
    "\n",
    "Create the function $P(V_m,T)$ such that the pressure ($P$) is a function of molar volume $\\left(V_m\\right)$ and temperature ($T$). Convert the pressure value from $Pa$ to $bar$.\n",
    "\n",
    "Use the function and range variables to create a $P$ vs $T$ plot where $T$ ranges from $100K$ to $1200K$ and $V_m$ = 2.24 $\\frac{L}{mol}$ = 0.00224 $\\frac{m^3}{mol}$ . Include $x$ and $y$ labels on the plot and a legend."
   ]
  },
  {
   "cell_type": "code",
   "execution_count": 60,
   "metadata": {},
   "outputs": [
    {
     "data": {
      "image/png": "[encoded data removed]",
      "text/plain": [
       "<Figure size 432x288 with 1 Axes>"
      ]
     },
     "metadata": {
      "needs_background": "light"
     },
     "output_type": "display_data"
    }
   ],
   "source": [
    "# part A\n",
    "Rg = 8.314  # J/mol-K\n",
    "Vm = 0.00224 # m^3/mol\n",
    "\n",
    "def P(Vm,T):\n",
    "    # return pressure in bar\n",
    "    return 1e-5 * Rg * T / Vm\n",
    "T = np.linspace(100,1200)\n",
    "\n",
    "import matplotlib.pyplot as plt\n",
    "plt.figure()\n",
    "plt.plot(T,P(Vm,T),'r-',linewidth=2,label='Ideal Gas Pressure')\n",
    "plt.xlabel('Temperature (K)')\n",
    "plt.ylabel('Pressure (bar)')\n",
    "plt.legend()\n",
    "plt.show()"
   ]
  },
  {
   "cell_type": "markdown",
   "metadata": {},
   "source": [
    "#### Part B\n",
    "\n",
    "Repeat part A but use the non-ideal gas Van der Waals Equation of State:\n",
    "\n",
    "$P+\\frac{a}{V_m^2}=\\frac{R_g T}{V_m-b}$\n",
    "\n",
    "with constants $a$ and $b$ for ethanol with critical properties $T_c=514 K$ and $P_c=6.137\\mathrm{x}10^6 Pa$:\n",
    "\n",
    "$a = 25 \\frac{\\left(R_g T_c\\right)^2}{64 P_c} = 25 \\frac{\\left(8.314 \\frac{J}{mol\\,K} 514 K\\right)^2}{64 \\,\\mathrm{x}\\,6.137\\mathrm{x}10^6 Pa}$ = $1.1623 \\frac{Pa\\,mol^2}{m^6}$\n",
    "\n",
    "$b = \\frac{R_g T_c}{8 P_c} = \\frac{8.314 \\frac{J}{mol\\,K} 514 K}{8 \\,\\mathrm{x}\\,6.137\\mathrm{x}10^6 Pa}$ = $8.70416\\mathrm{x}10^{-5} \\frac{m^3}{mol}$\n",
    "\n",
    "Compare the ideal gas and non-ideal gas results on the same plot."
   ]
  },
  {
   "cell_type": "code",
   "execution_count": 61,
   "metadata": {},
   "outputs": [
    {
     "data": {
      "image/png": "[encoded data removed]",
      "text/plain": [
       "<Figure size 432x288 with 1 Axes>"
      ]
     },
     "metadata": {
      "needs_background": "light"
     },
     "output_type": "display_data"
    }
   ],
   "source": [
    "# part B\n",
    "Rg = 8.314    # J/mol-K\n",
    "Vm = 0.00224  # m^3/mol\n",
    "Tc = 514      # K\n",
    "Pc = 6.137e6  # Pa\n",
    "a = 25*(Rg*Tc)**2/(64*Pc)\n",
    "b = Rg*Tc/(8*Pc)\n",
    "\n",
    "def P2(Vm,T):\n",
    "    # return pressure in bar\n",
    "    return 1e-5 * (Rg * T / (Vm-b) - a / Vm**2)\n",
    "\n",
    "plt.figure()\n",
    "plt.plot(T,P(Vm,T),'r-',linewidth=2,label='Ideal Gas Pressure')\n",
    "plt.plot(T,P2(Vm,T),'b:',linewidth=2,label='Non-Ideal Gas Pressure')\n",
    "plt.xlabel('Temperature (K)')\n",
    "plt.ylabel('Pressure (bar)')\n",
    "plt.legend()\n",
    "plt.show()"
   ]
  },
  {
   "cell_type": "markdown",
   "metadata": {},
   "source": [
    "## Problem 8: Parameter Estimation and Statistics\n",
    "\n",
    "The yield (concentration) of green fluorescent protein produced in a reaction over time has been determined and is shown below.\n",
    "\n",
    "```\n",
    "Time (minutes)  Concentration (mg/mL)\n",
    "15              107.32\n",
    "30              203.05\n",
    "45              341.26\n",
    "60              401.24\n",
    "180             844.01\n",
    "480             1135.12\n",
    "720             1374.70\n",
    "1200            1651.26\n",
    "```\n",
    "\n",
    "Fit the data to the equation \n",
    "\n",
    "$G = A t^2 + B\\ln{t}+D$\n",
    "\n",
    "Where $G$ is the concentration of GFP in mg/mL at a given time ($t$) in minutes and $A$, $B$, and $D$ are adjustable parameters to minimize the difference between predicted and measured $G$.\n",
    "\n",
    "Solve for $A$, $B$, and $D$ to fit the data. Create a plot of the measured and predicted values and determine the $R^2$ value."
   ]
  },
  {
   "cell_type": "code",
   "execution_count": 66,
   "metadata": {},
   "outputs": [
    {
     "name": "stdout",
     "output_type": "stream",
     "text": [
      "A = 0.00018907725436787096\n",
      "B = 311.39815072936636\n",
      "D = -815.2247831298712\n",
      "R^2 = 0.9932723267947231\n"
     ]
    },
    {
     "data": {
      "image/png": "[encoded data removed]",
      "text/plain": [
       "<Figure size 432x288 with 1 Axes>"
      ]
     },
     "metadata": {
      "needs_background": "light"
     },
     "output_type": "display_data"
    }
   ],
   "source": [
    "from scipy.optimize import curve_fit\n",
    "\n",
    "x = np.array([15,30,45,60,180,480,720,1200])\n",
    "y = np.array([107.32,203.5,341.26,401.24,844.01,1135.12,1374.70,1651.26])\n",
    "\n",
    "def f(t,A,B,D):\n",
    "    return A*t**2 + B*np.log(t) + D\n",
    "\n",
    "popt, pcov = curve_fit(f,x,y)\n",
    "A = popt[0]\n",
    "B = popt[1]\n",
    "D = popt[2]\n",
    "print('A = '+str(A))\n",
    "print('B = '+str(B))\n",
    "print('D = '+str(D))\n",
    "\n",
    "plt.plot(x,y,'bo')\n",
    "xp = np.linspace(15,1200,100)\n",
    "plt.plot(xp,f(xp,A,B,D),'r-')\n",
    "plt.xlabel('Time (min)')\n",
    "plt.ylabel('Concentration (mg/mL)')"
   ]
  },
  {
   "cell_type": "code",
   "execution_count": 67,
   "metadata": {},
   "outputs": [
    {
     "name": "stdout",
     "output_type": "stream",
     "text": [
      "R^2 = 0.9932723267947231\n"
     ]
    }
   ],
   "source": [
    "# calculate R^2\n",
    "from sklearn.metrics import r2_score\n",
    "rsq2 = r2_score(y, f(x,A,B,D))\n",
    "print('R^2 = '+str(rsq2))"
   ]
  },
  {
   "cell_type": "markdown",
   "metadata": {},
   "source": [
    "## 9. Implicit Equation Solve\n",
    "\n",
    "Determine the two roots of the polynomial using `fsolve` from `scipy.optimize`.\n",
    "\n",
    "$x^2+3x+2=0$\n",
    "\n",
    "Verify the solutions from the quadratic formula:\n",
    "\n",
    "$\\frac{-b\\pm \\sqrt{b^2-4ac}}{2a}$\n",
    "\n",
    "with solutions:\n",
    "\n",
    "$x_0=\\frac{-3+\\sqrt{9-8}}{2} = \\frac{-2}{2} = -1$\n",
    "\n",
    "$x_1=\\frac{-3-\\sqrt{9-8}}{2} = \\frac{-4}{2} = -2$\n",
    "\n",
    "A better way to find polynomial roots is with `numpy` such as\n",
    "\n",
    "```python\n",
    "import numpy as np\n",
    "np.polynomial.polynomial.polyroots([2,3,1])\n",
    "```\n",
    "\n",
    "but use this exercise to practice `fsolve` and how to use a different initial guess to find alternate solutions."
   ]
  },
  {
   "cell_type": "code",
   "execution_count": 63,
   "metadata": {},
   "outputs": [],
   "source": [
    "import numpy as np\n",
    "from scipy.optimize import fsolve\n",
    "\n",
    "def fcn(x):\n",
    "    return x**2+3*x+2"
   ]
  },
  {
   "cell_type": "code",
   "execution_count": 64,
   "metadata": {},
   "outputs": [
    {
     "name": "stdout",
     "output_type": "stream",
     "text": [
      "[-1.]\n"
     ]
    }
   ],
   "source": [
    "z = fsolve(fcn,0)  # guess 0\n",
    "print(z)"
   ]
  },
  {
   "cell_type": "code",
   "execution_count": 65,
   "metadata": {},
   "outputs": [
    {
     "name": "stdout",
     "output_type": "stream",
     "text": [
      "[-2.]\n"
     ]
    }
   ],
   "source": [
    "z = fsolve(fcn,-3) # guess -3\n",
    "print(z)"
   ]
  }
 ],
 "metadata": {
  "kernelspec": {
   "display_name": "Python 3",
   "language": "python",
   "name": "python3"
  },
  "language_info": {
   "codemirror_mode": {
    "name": "ipython",
    "version": 3
   },
   "file_extension": ".py",
   "mimetype": "text/x-python",
   "name": "python",
   "nbconvert_exporter": "python",
   "pygments_lexer": "ipython3",
   "version": "3.7.4"
  }
 },
 "nbformat": 4,
 "nbformat_minor": 1
}
